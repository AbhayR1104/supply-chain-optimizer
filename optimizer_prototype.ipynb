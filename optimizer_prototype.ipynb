{
 "cells": [
  {
   "cell_type": "code",
   "execution_count": 1,
   "id": "d1802475",
   "metadata": {},
   "outputs": [
    {
     "name": "stdout",
     "output_type": "stream",
     "text": [
      "Loading Parquet file...\n",
      "✅ File loaded successfully!\n",
      "\n",
      "First 5 rows of data:\n"
     ]
    },
    {
     "data": {
      "text/html": [
       "<div>\n",
       "<style scoped>\n",
       "    .dataframe tbody tr th:only-of-type {\n",
       "        vertical-align: middle;\n",
       "    }\n",
       "\n",
       "    .dataframe tbody tr th {\n",
       "        vertical-align: top;\n",
       "    }\n",
       "\n",
       "    .dataframe thead th {\n",
       "        text-align: right;\n",
       "    }\n",
       "</style>\n",
       "<table border=\"1\" class=\"dataframe\">\n",
       "  <thead>\n",
       "    <tr style=\"text-align: right;\">\n",
       "      <th></th>\n",
       "      <th>VendorID</th>\n",
       "      <th>tpep_pickup_datetime</th>\n",
       "      <th>tpep_dropoff_datetime</th>\n",
       "      <th>passenger_count</th>\n",
       "      <th>trip_distance</th>\n",
       "      <th>RatecodeID</th>\n",
       "      <th>store_and_fwd_flag</th>\n",
       "      <th>PULocationID</th>\n",
       "      <th>DOLocationID</th>\n",
       "      <th>payment_type</th>\n",
       "      <th>fare_amount</th>\n",
       "      <th>extra</th>\n",
       "      <th>mta_tax</th>\n",
       "      <th>tip_amount</th>\n",
       "      <th>tolls_amount</th>\n",
       "      <th>improvement_surcharge</th>\n",
       "      <th>total_amount</th>\n",
       "      <th>congestion_surcharge</th>\n",
       "      <th>Airport_fee</th>\n",
       "    </tr>\n",
       "  </thead>\n",
       "  <tbody>\n",
       "    <tr>\n",
       "      <th>0</th>\n",
       "      <td>2</td>\n",
       "      <td>2024-01-01 00:57:55</td>\n",
       "      <td>2024-01-01 01:17:43</td>\n",
       "      <td>1.0</td>\n",
       "      <td>1.72</td>\n",
       "      <td>1.0</td>\n",
       "      <td>N</td>\n",
       "      <td>186</td>\n",
       "      <td>79</td>\n",
       "      <td>2</td>\n",
       "      <td>17.7</td>\n",
       "      <td>1.0</td>\n",
       "      <td>0.5</td>\n",
       "      <td>0.00</td>\n",
       "      <td>0.0</td>\n",
       "      <td>1.0</td>\n",
       "      <td>22.70</td>\n",
       "      <td>2.5</td>\n",
       "      <td>0.0</td>\n",
       "    </tr>\n",
       "    <tr>\n",
       "      <th>1</th>\n",
       "      <td>1</td>\n",
       "      <td>2024-01-01 00:03:00</td>\n",
       "      <td>2024-01-01 00:09:36</td>\n",
       "      <td>1.0</td>\n",
       "      <td>1.80</td>\n",
       "      <td>1.0</td>\n",
       "      <td>N</td>\n",
       "      <td>140</td>\n",
       "      <td>236</td>\n",
       "      <td>1</td>\n",
       "      <td>10.0</td>\n",
       "      <td>3.5</td>\n",
       "      <td>0.5</td>\n",
       "      <td>3.75</td>\n",
       "      <td>0.0</td>\n",
       "      <td>1.0</td>\n",
       "      <td>18.75</td>\n",
       "      <td>2.5</td>\n",
       "      <td>0.0</td>\n",
       "    </tr>\n",
       "    <tr>\n",
       "      <th>2</th>\n",
       "      <td>1</td>\n",
       "      <td>2024-01-01 00:17:06</td>\n",
       "      <td>2024-01-01 00:35:01</td>\n",
       "      <td>1.0</td>\n",
       "      <td>4.70</td>\n",
       "      <td>1.0</td>\n",
       "      <td>N</td>\n",
       "      <td>236</td>\n",
       "      <td>79</td>\n",
       "      <td>1</td>\n",
       "      <td>23.3</td>\n",
       "      <td>3.5</td>\n",
       "      <td>0.5</td>\n",
       "      <td>3.00</td>\n",
       "      <td>0.0</td>\n",
       "      <td>1.0</td>\n",
       "      <td>31.30</td>\n",
       "      <td>2.5</td>\n",
       "      <td>0.0</td>\n",
       "    </tr>\n",
       "    <tr>\n",
       "      <th>3</th>\n",
       "      <td>1</td>\n",
       "      <td>2024-01-01 00:36:38</td>\n",
       "      <td>2024-01-01 00:44:56</td>\n",
       "      <td>1.0</td>\n",
       "      <td>1.40</td>\n",
       "      <td>1.0</td>\n",
       "      <td>N</td>\n",
       "      <td>79</td>\n",
       "      <td>211</td>\n",
       "      <td>1</td>\n",
       "      <td>10.0</td>\n",
       "      <td>3.5</td>\n",
       "      <td>0.5</td>\n",
       "      <td>2.00</td>\n",
       "      <td>0.0</td>\n",
       "      <td>1.0</td>\n",
       "      <td>17.00</td>\n",
       "      <td>2.5</td>\n",
       "      <td>0.0</td>\n",
       "    </tr>\n",
       "    <tr>\n",
       "      <th>4</th>\n",
       "      <td>1</td>\n",
       "      <td>2024-01-01 00:46:51</td>\n",
       "      <td>2024-01-01 00:52:57</td>\n",
       "      <td>1.0</td>\n",
       "      <td>0.80</td>\n",
       "      <td>1.0</td>\n",
       "      <td>N</td>\n",
       "      <td>211</td>\n",
       "      <td>148</td>\n",
       "      <td>1</td>\n",
       "      <td>7.9</td>\n",
       "      <td>3.5</td>\n",
       "      <td>0.5</td>\n",
       "      <td>3.20</td>\n",
       "      <td>0.0</td>\n",
       "      <td>1.0</td>\n",
       "      <td>16.10</td>\n",
       "      <td>2.5</td>\n",
       "      <td>0.0</td>\n",
       "    </tr>\n",
       "  </tbody>\n",
       "</table>\n",
       "</div>"
      ],
      "text/plain": [
       "   VendorID tpep_pickup_datetime tpep_dropoff_datetime  passenger_count  \\\n",
       "0         2  2024-01-01 00:57:55   2024-01-01 01:17:43              1.0   \n",
       "1         1  2024-01-01 00:03:00   2024-01-01 00:09:36              1.0   \n",
       "2         1  2024-01-01 00:17:06   2024-01-01 00:35:01              1.0   \n",
       "3         1  2024-01-01 00:36:38   2024-01-01 00:44:56              1.0   \n",
       "4         1  2024-01-01 00:46:51   2024-01-01 00:52:57              1.0   \n",
       "\n",
       "   trip_distance  RatecodeID store_and_fwd_flag  PULocationID  DOLocationID  \\\n",
       "0           1.72         1.0                  N           186            79   \n",
       "1           1.80         1.0                  N           140           236   \n",
       "2           4.70         1.0                  N           236            79   \n",
       "3           1.40         1.0                  N            79           211   \n",
       "4           0.80         1.0                  N           211           148   \n",
       "\n",
       "   payment_type  fare_amount  extra  mta_tax  tip_amount  tolls_amount  \\\n",
       "0             2         17.7    1.0      0.5        0.00           0.0   \n",
       "1             1         10.0    3.5      0.5        3.75           0.0   \n",
       "2             1         23.3    3.5      0.5        3.00           0.0   \n",
       "3             1         10.0    3.5      0.5        2.00           0.0   \n",
       "4             1          7.9    3.5      0.5        3.20           0.0   \n",
       "\n",
       "   improvement_surcharge  total_amount  congestion_surcharge  Airport_fee  \n",
       "0                    1.0         22.70                   2.5          0.0  \n",
       "1                    1.0         18.75                   2.5          0.0  \n",
       "2                    1.0         31.30                   2.5          0.0  \n",
       "3                    1.0         17.00                   2.5          0.0  \n",
       "4                    1.0         16.10                   2.5          0.0  "
      ]
     },
     "metadata": {},
     "output_type": "display_data"
    },
    {
     "name": "stdout",
     "output_type": "stream",
     "text": [
      "\n",
      "Data summary:\n",
      "<class 'pandas.core.frame.DataFrame'>\n",
      "RangeIndex: 2964624 entries, 0 to 2964623\n",
      "Data columns (total 19 columns):\n",
      " #   Column                 Dtype         \n",
      "---  ------                 -----         \n",
      " 0   VendorID               int32         \n",
      " 1   tpep_pickup_datetime   datetime64[us]\n",
      " 2   tpep_dropoff_datetime  datetime64[us]\n",
      " 3   passenger_count        float64       \n",
      " 4   trip_distance          float64       \n",
      " 5   RatecodeID             float64       \n",
      " 6   store_and_fwd_flag     object        \n",
      " 7   PULocationID           int32         \n",
      " 8   DOLocationID           int32         \n",
      " 9   payment_type           int64         \n",
      " 10  fare_amount            float64       \n",
      " 11  extra                  float64       \n",
      " 12  mta_tax                float64       \n",
      " 13  tip_amount             float64       \n",
      " 14  tolls_amount           float64       \n",
      " 15  improvement_surcharge  float64       \n",
      " 16  total_amount           float64       \n",
      " 17  congestion_surcharge   float64       \n",
      " 18  Airport_fee            float64       \n",
      "dtypes: datetime64[us](2), float64(12), int32(3), int64(1), object(1)\n",
      "memory usage: 395.8+ MB\n"
     ]
    }
   ],
   "source": [
    "import pandas as pd\n",
    "\n",
    "# Load the downloaded taxi trip data\n",
    "print(\"Loading Parquet file...\")\n",
    "df_trips = pd.read_parquet('yellow_tripdata_2024-01.parquet')\n",
    "print(\"✅ File loaded successfully!\")\n",
    "\n",
    "# Display the first 5 rows to see the columns\n",
    "print(\"\\nFirst 5 rows of data:\")\n",
    "display(df_trips.head())\n",
    "\n",
    "# Display a summary of the data (columns, memory usage, etc.)\n",
    "print(\"\\nData summary:\")\n",
    "df_trips.info()"
   ]
  },
  {
   "cell_type": "code",
   "execution_count": 2,
   "id": "8ee4c882",
   "metadata": {},
   "outputs": [
    {
     "name": "stdout",
     "output_type": "stream",
     "text": [
      "Taxi Zone Lookup Data (first 5 rows):\n"
     ]
    },
    {
     "data": {
      "text/html": [
       "<div>\n",
       "<style scoped>\n",
       "    .dataframe tbody tr th:only-of-type {\n",
       "        vertical-align: middle;\n",
       "    }\n",
       "\n",
       "    .dataframe tbody tr th {\n",
       "        vertical-align: top;\n",
       "    }\n",
       "\n",
       "    .dataframe thead th {\n",
       "        text-align: right;\n",
       "    }\n",
       "</style>\n",
       "<table border=\"1\" class=\"dataframe\">\n",
       "  <thead>\n",
       "    <tr style=\"text-align: right;\">\n",
       "      <th></th>\n",
       "      <th>LocationID</th>\n",
       "      <th>Borough</th>\n",
       "      <th>Zone</th>\n",
       "      <th>service_zone</th>\n",
       "    </tr>\n",
       "  </thead>\n",
       "  <tbody>\n",
       "    <tr>\n",
       "      <th>0</th>\n",
       "      <td>1</td>\n",
       "      <td>EWR</td>\n",
       "      <td>Newark Airport</td>\n",
       "      <td>EWR</td>\n",
       "    </tr>\n",
       "    <tr>\n",
       "      <th>1</th>\n",
       "      <td>2</td>\n",
       "      <td>Queens</td>\n",
       "      <td>Jamaica Bay</td>\n",
       "      <td>Boro Zone</td>\n",
       "    </tr>\n",
       "    <tr>\n",
       "      <th>2</th>\n",
       "      <td>3</td>\n",
       "      <td>Bronx</td>\n",
       "      <td>Allerton/Pelham Gardens</td>\n",
       "      <td>Boro Zone</td>\n",
       "    </tr>\n",
       "    <tr>\n",
       "      <th>3</th>\n",
       "      <td>4</td>\n",
       "      <td>Manhattan</td>\n",
       "      <td>Alphabet City</td>\n",
       "      <td>Yellow Zone</td>\n",
       "    </tr>\n",
       "    <tr>\n",
       "      <th>4</th>\n",
       "      <td>5</td>\n",
       "      <td>Staten Island</td>\n",
       "      <td>Arden Heights</td>\n",
       "      <td>Boro Zone</td>\n",
       "    </tr>\n",
       "  </tbody>\n",
       "</table>\n",
       "</div>"
      ],
      "text/plain": [
       "   LocationID        Borough                     Zone service_zone\n",
       "0           1            EWR           Newark Airport          EWR\n",
       "1           2         Queens              Jamaica Bay    Boro Zone\n",
       "2           3          Bronx  Allerton/Pelham Gardens    Boro Zone\n",
       "3           4      Manhattan            Alphabet City  Yellow Zone\n",
       "4           5  Staten Island            Arden Heights    Boro Zone"
      ]
     },
     "metadata": {},
     "output_type": "display_data"
    }
   ],
   "source": [
    "# Load the taxi zone lookup data\n",
    "df_zones = pd.read_csv('taxi+_zone_lookup.csv')\n",
    "\n",
    "# Display the first 5 rows to see what's inside\n",
    "print(\"Taxi Zone Lookup Data (first 5 rows):\")\n",
    "display(df_zones.head())"
   ]
  },
  {
   "cell_type": "code",
   "execution_count": 3,
   "id": "ca4dc9e3",
   "metadata": {},
   "outputs": [
    {
     "name": "stdout",
     "output_type": "stream",
     "text": [
      "Merging trip data with zone information...\n",
      "✅ Merge successful!\n",
      "\n",
      "Combined Data (first 5 rows):\n"
     ]
    },
    {
     "data": {
      "text/html": [
       "<div>\n",
       "<style scoped>\n",
       "    .dataframe tbody tr th:only-of-type {\n",
       "        vertical-align: middle;\n",
       "    }\n",
       "\n",
       "    .dataframe tbody tr th {\n",
       "        vertical-align: top;\n",
       "    }\n",
       "\n",
       "    .dataframe thead th {\n",
       "        text-align: right;\n",
       "    }\n",
       "</style>\n",
       "<table border=\"1\" class=\"dataframe\">\n",
       "  <thead>\n",
       "    <tr style=\"text-align: right;\">\n",
       "      <th></th>\n",
       "      <th>Timestamp</th>\n",
       "      <th>LocationID</th>\n",
       "      <th>Borough</th>\n",
       "      <th>Zone</th>\n",
       "      <th>service_zone</th>\n",
       "    </tr>\n",
       "  </thead>\n",
       "  <tbody>\n",
       "    <tr>\n",
       "      <th>0</th>\n",
       "      <td>2024-01-01 00:57:55</td>\n",
       "      <td>186</td>\n",
       "      <td>Manhattan</td>\n",
       "      <td>Penn Station/Madison Sq West</td>\n",
       "      <td>Yellow Zone</td>\n",
       "    </tr>\n",
       "    <tr>\n",
       "      <th>1</th>\n",
       "      <td>2024-01-01 00:03:00</td>\n",
       "      <td>140</td>\n",
       "      <td>Manhattan</td>\n",
       "      <td>Lenox Hill East</td>\n",
       "      <td>Yellow Zone</td>\n",
       "    </tr>\n",
       "    <tr>\n",
       "      <th>2</th>\n",
       "      <td>2024-01-01 00:17:06</td>\n",
       "      <td>236</td>\n",
       "      <td>Manhattan</td>\n",
       "      <td>Upper East Side North</td>\n",
       "      <td>Yellow Zone</td>\n",
       "    </tr>\n",
       "    <tr>\n",
       "      <th>3</th>\n",
       "      <td>2024-01-01 00:36:38</td>\n",
       "      <td>79</td>\n",
       "      <td>Manhattan</td>\n",
       "      <td>East Village</td>\n",
       "      <td>Yellow Zone</td>\n",
       "    </tr>\n",
       "    <tr>\n",
       "      <th>4</th>\n",
       "      <td>2024-01-01 00:46:51</td>\n",
       "      <td>211</td>\n",
       "      <td>Manhattan</td>\n",
       "      <td>SoHo</td>\n",
       "      <td>Yellow Zone</td>\n",
       "    </tr>\n",
       "  </tbody>\n",
       "</table>\n",
       "</div>"
      ],
      "text/plain": [
       "            Timestamp  LocationID    Borough                          Zone  \\\n",
       "0 2024-01-01 00:57:55         186  Manhattan  Penn Station/Madison Sq West   \n",
       "1 2024-01-01 00:03:00         140  Manhattan               Lenox Hill East   \n",
       "2 2024-01-01 00:17:06         236  Manhattan         Upper East Side North   \n",
       "3 2024-01-01 00:36:38          79  Manhattan                  East Village   \n",
       "4 2024-01-01 00:46:51         211  Manhattan                          SoHo   \n",
       "\n",
       "  service_zone  \n",
       "0  Yellow Zone  \n",
       "1  Yellow Zone  \n",
       "2  Yellow Zone  \n",
       "3  Yellow Zone  \n",
       "4  Yellow Zone  "
      ]
     },
     "metadata": {},
     "output_type": "display_data"
    },
    {
     "name": "stdout",
     "output_type": "stream",
     "text": [
      "\n",
      "Order count by Borough:\n",
      "Borough\n",
      "Manhattan        2646948\n",
      "Queens            273128\n",
      "Brooklyn           25258\n",
      "Unknown            10360\n",
      "Bronx               6905\n",
      "EWR                  295\n",
      "Staten Island         72\n",
      "Name: count, dtype: int64\n"
     ]
    }
   ],
   "source": [
    "# --- Clean up and merge the data ---\n",
    "\n",
    "# We only need a few columns for our logistics problem. Let's select them.\n",
    "df_trips_cleaned = df_trips[['tpep_pickup_datetime', 'PULocationID']].copy()\n",
    "\n",
    "# Rename columns for clarity\n",
    "df_trips_cleaned.rename(columns={\n",
    "    'tpep_pickup_datetime': 'Timestamp',\n",
    "    'PULocationID': 'LocationID'\n",
    "}, inplace=True)\n",
    "\n",
    "# --- Merge the trip data with the zone lookup data ---\n",
    "print(\"Merging trip data with zone information...\")\n",
    "\n",
    "# This command joins the two tables based on the 'LocationID'\n",
    "df_merged = pd.merge(\n",
    "    left=df_trips_cleaned,\n",
    "    right=df_zones,\n",
    "    how='inner',\n",
    "    on='LocationID'\n",
    ")\n",
    "\n",
    "print(\"✅ Merge successful!\")\n",
    "\n",
    "# Display the first 5 rows of the newly combined data\n",
    "print(\"\\nCombined Data (first 5 rows):\")\n",
    "display(df_merged.head())\n",
    "\n",
    "# See how many orders we have in each borough\n",
    "print(\"\\nOrder count by Borough:\")\n",
    "print(df_merged['Borough'].value_counts())"
   ]
  },
  {
   "cell_type": "code",
   "execution_count": 4,
   "id": "31ace961",
   "metadata": {},
   "outputs": [
    {
     "name": "stdout",
     "output_type": "stream",
     "text": [
      "Loading coordinates data from embedded string...\n",
      "✅ Coordinates loaded successfully!\n",
      "\n",
      "Merging data with coordinates...\n",
      "✅ Final merge successful!\n",
      "\n",
      "Our data now has latitude and longitude for every order.\n"
     ]
    },
    {
     "data": {
      "text/html": [
       "<div>\n",
       "<style scoped>\n",
       "    .dataframe tbody tr th:only-of-type {\n",
       "        vertical-align: middle;\n",
       "    }\n",
       "\n",
       "    .dataframe tbody tr th {\n",
       "        vertical-align: top;\n",
       "    }\n",
       "\n",
       "    .dataframe thead th {\n",
       "        text-align: right;\n",
       "    }\n",
       "</style>\n",
       "<table border=\"1\" class=\"dataframe\">\n",
       "  <thead>\n",
       "    <tr style=\"text-align: right;\">\n",
       "      <th></th>\n",
       "      <th>Timestamp</th>\n",
       "      <th>LocationID</th>\n",
       "      <th>Borough</th>\n",
       "      <th>Zone</th>\n",
       "      <th>service_zone</th>\n",
       "      <th>latitude</th>\n",
       "      <th>longitude</th>\n",
       "    </tr>\n",
       "  </thead>\n",
       "  <tbody>\n",
       "    <tr>\n",
       "      <th>0</th>\n",
       "      <td>2024-01-01 00:57:55</td>\n",
       "      <td>186</td>\n",
       "      <td>Manhattan</td>\n",
       "      <td>Penn Station/Madison Sq West</td>\n",
       "      <td>Yellow Zone</td>\n",
       "      <td>40.75201</td>\n",
       "      <td>-73.99321</td>\n",
       "    </tr>\n",
       "    <tr>\n",
       "      <th>1</th>\n",
       "      <td>2024-01-01 00:03:00</td>\n",
       "      <td>140</td>\n",
       "      <td>Manhattan</td>\n",
       "      <td>Lenox Hill East</td>\n",
       "      <td>Yellow Zone</td>\n",
       "      <td>40.77112</td>\n",
       "      <td>-73.95758</td>\n",
       "    </tr>\n",
       "    <tr>\n",
       "      <th>2</th>\n",
       "      <td>2024-01-01 00:17:06</td>\n",
       "      <td>236</td>\n",
       "      <td>Manhattan</td>\n",
       "      <td>Upper East Side North</td>\n",
       "      <td>Yellow Zone</td>\n",
       "      <td>40.77598</td>\n",
       "      <td>-73.95368</td>\n",
       "    </tr>\n",
       "    <tr>\n",
       "      <th>3</th>\n",
       "      <td>2024-01-01 00:36:38</td>\n",
       "      <td>79</td>\n",
       "      <td>Manhattan</td>\n",
       "      <td>East Village</td>\n",
       "      <td>Yellow Zone</td>\n",
       "      <td>40.72648</td>\n",
       "      <td>-73.98059</td>\n",
       "    </tr>\n",
       "    <tr>\n",
       "      <th>4</th>\n",
       "      <td>2024-01-01 00:46:51</td>\n",
       "      <td>211</td>\n",
       "      <td>Manhattan</td>\n",
       "      <td>SoHo</td>\n",
       "      <td>Yellow Zone</td>\n",
       "      <td>40.72193</td>\n",
       "      <td>-74.00016</td>\n",
       "    </tr>\n",
       "  </tbody>\n",
       "</table>\n",
       "</div>"
      ],
      "text/plain": [
       "            Timestamp  LocationID    Borough                          Zone  \\\n",
       "0 2024-01-01 00:57:55         186  Manhattan  Penn Station/Madison Sq West   \n",
       "1 2024-01-01 00:03:00         140  Manhattan               Lenox Hill East   \n",
       "2 2024-01-01 00:17:06         236  Manhattan         Upper East Side North   \n",
       "3 2024-01-01 00:36:38          79  Manhattan                  East Village   \n",
       "4 2024-01-01 00:46:51         211  Manhattan                          SoHo   \n",
       "\n",
       "  service_zone  latitude  longitude  \n",
       "0  Yellow Zone  40.75201  -73.99321  \n",
       "1  Yellow Zone  40.77112  -73.95758  \n",
       "2  Yellow Zone  40.77598  -73.95368  \n",
       "3  Yellow Zone  40.72648  -73.98059  \n",
       "4  Yellow Zone  40.72193  -74.00016  "
      ]
     },
     "metadata": {},
     "output_type": "display_data"
    },
    {
     "name": "stdout",
     "output_type": "stream",
     "text": [
      "\n",
      "Shape of the final dataset: (2952606, 7)\n"
     ]
    }
   ],
   "source": [
    "import pandas as pd\n",
    "import io\n",
    "\n",
    "# --- Raw CSV data for NYC Taxi Zone coordinates ---\n",
    "# This data is now embedded in our code to avoid any download errors.\n",
    "csv_data = \"\"\"LocationID,latitude,longitude\n",
    "1,40.644990,-74.174230\n",
    "2,40.675690,-73.800100\n",
    "3,40.864470,-73.847420\n",
    "4,40.723750,-73.981420\n",
    "5,40.562860,-74.184470\n",
    "6,40.596820,-74.126290\n",
    "7,40.744110,-73.992010\n",
    "8,40.627760,-73.951230\n",
    "9,40.835430,-73.864330\n",
    "10,40.652070,-73.945830\n",
    "11,40.628880,-73.994870\n",
    "12,40.588520,-73.963160\n",
    "13,40.708870,-74.009380\n",
    "14,40.668240,-73.980390\n",
    "15,40.837330,-73.902260\n",
    "16,40.764170,-73.961540\n",
    "17,40.692690,-73.951560\n",
    "18,40.695160,-73.922440\n",
    "19,40.679610,-73.904830\n",
    "20,40.648370,-74.017550\n",
    "21,40.627270,-74.077330\n",
    "22,40.671160,-73.943110\n",
    "23,40.785340,-73.942450\n",
    "24,40.791730,-73.944220\n",
    "25,40.718530,-73.953560\n",
    "26,40.641320,-73.955930\n",
    "27,40.671190,-73.868720\n",
    "28,40.743140,-73.974440\n",
    "29,40.706850,-74.015240\n",
    "30,40.545620,-74.166820\n",
    "31,40.864820,-73.916100\n",
    "32,40.852860,-73.896790\n",
    "33,40.671810,-73.969180\n",
    "34,40.686560,-73.981880\n",
    "35,40.694860,-73.974280\n",
    "36,40.711280,-73.994130\n",
    "37,40.725830,-73.999060\n",
    "38,40.887320,-73.910320\n",
    "39,40.803770,-73.872720\n",
    "40,40.820980,-73.889320\n",
    "41,40.575910,-74.139090\n",
    "42,40.612030,-74.025340\n",
    "43,40.752690,-73.984280\n",
    "44,40.714090,-73.942120\n",
    "45,40.718450,-73.986870\n",
    "46,40.738180,-74.002590\n",
    "47,40.709320,-73.996120\n",
    "48,40.768070,-73.982740\n",
    "49,40.760160,-73.991250\n",
    "50,40.757070,-73.990130\n",
    "51,40.618030,-74.004230\n",
    "52,40.740620,-73.913230\n",
    "53,40.741710,-73.866330\n",
    "54,40.796590,-73.839690\n",
    "55,40.807750,-73.856980\n",
    "56,40.689360,-73.899320\n",
    "57,40.693150,-73.882420\n",
    "58,40.840240,-73.856090\n",
    "59,40.871140,-73.834140\n",
    "60,40.896310,-73.854830\n",
    "61,40.705290,-73.938390\n",
    "62,40.748360,-73.953680\n",
    "63,40.709350,-73.961290\n",
    "64,40.761890,-73.826130\n",
    "65,40.732890,-74.006930\n",
    "66,40.707740,-73.951540\n",
    "67,40.700010,-73.924230\n",
    "68,40.761760,-73.958500\n",
    "69,40.785070,-73.815560\n",
    "70,40.814520,-73.910580\n",
    "71,40.729990,-73.988020\n",
    "72,40.696140,-73.994780\n",
    "73,40.793830,-73.961560\n",
    "74,40.799010,-73.968130\n",
    "75,40.811740,-73.952230\n",
    "76,40.702730,-74.014280\n",
    "77,40.685370,-74.001220\n",
    "78,40.658810,-73.974950\n",
    "79,40.726480,-73.980590\n",
    "80,40.695990,-73.969980\n",
    "81,40.669560,-73.891890\n",
    "82,40.679120,-73.961220\n",
    "83,40.686030,-73.961910\n",
    "84,40.635840,-73.884580\n",
    "85,40.672580,-73.914270\n",
    "86,40.687530,-73.906730\n",
    "87,40.748640,-73.987730\n",
    "88,40.759290,-73.985160\n",
    "89,40.583610,-74.093950\n",
    "90,40.763190,-73.991800\n",
    "91,40.603330,-73.943990\n",
    "92,40.598070,-74.076590\n",
    "93,40.631890,-73.965560\n",
    "94,40.599010,-74.062820\n",
    "95,40.778840,-73.953530\n",
    "96,40.784420,-73.949740\n",
    "97,40.730470,-73.958810\n",
    "98,40.608030,-74.088010\n",
    "99,40.592750,-74.198390\n",
    "100,40.751140,-73.992240\n",
    "101,40.644120,-74.005180\n",
    "102,40.638570,-73.994270\n",
    "103,40.771980,-73.874430\n",
    "104,40.775830,-73.869970\n",
    "105,40.781060,-73.850540\n",
    "106,40.728830,-73.978830\n",
    "107,40.733610,-73.994230\n",
    "108,40.751740,-73.800050\n",
    "109,40.755450,-73.820520\n",
    "110,40.735870,-73.791530\n",
    "111,40.605280,-74.065870\n",
    "112,40.612490,-73.978180\n",
    "113,40.759160,-73.969240\n",
    "114,40.764520,-73.978010\n",
    "115,40.852170,-73.844910\n",
    "116,40.743130,-73.992840\n",
    "117,40.687050,-73.873230\n",
    "118,40.835560,-73.850680\n",
    "119,40.790070,-73.976050\n",
    "120,40.738870,-73.976310\n",
    "121,40.810330,-73.829040\n",
    "122,40.825630,-73.811550\n",
    "123,40.796390,-73.814230\n",
    "124,40.790930,-73.853240\n",
    "125,40.748970,-73.998930\n",
    "126,40.767570,-73.805360\n",
    "127,40.742970,-74.006590\n",
    "128,40.735390,-73.993140\n",
    "129,40.787620,-73.842040\n",
    "130,40.759590,-73.844450\n",
    "131,40.753340,-73.872970\n",
    "132,40.774100,-73.980600\n",
    "133,40.804890,-73.938830\n",
    "134,40.755790,-73.883490\n",
    "135,40.760030,-73.921350\n",
    "136,40.766330,-73.858790\n",
    "137,40.771230,-73.987540\n",
    "138,40.718030,-73.843450\n",
    "139,40.701150,-73.828550\n",
    "140,40.771120,-73.957580\n",
    "141,40.776930,-73.962240\n",
    "142,40.767660,-73.971840\n",
    "143,40.769930,-73.958560\n",
    "144,40.743320,-73.982290\n",
    "145,40.825130,-73.940340\n",
    "146,40.827760,-73.931220\n",
    "147,40.865730,-73.830490\n",
    "148,40.755490,-73.976410\n",
    "149,40.798650,-73.931180\n",
    "150,40.815910,-73.940730\n",
    "151,40.742300,-74.001600\n",
    "152,40.745670,-73.993810\n",
    "153,40.739480,-74.002450\n",
    "154,40.746060,-73.811020\n",
    "155,40.791550,-73.932720\n",
    "156,40.873240,-73.865970\n",
    "157,40.810560,-73.889370\n",
    "158,40.749940,-73.987100\n",
    "159,40.857640,-73.918970\n",
    "160,40.868090,-73.899630\n",
    "161,40.757040,-73.978270\n",
    "162,40.763320,-73.973950\n",
    "163,40.765970,-73.973210\n",
    "164,40.761020,-73.968320\n",
    "165,40.729090,-73.805560\n",
    "166,40.739780,-73.990420\n",
    "167,40.596040,-74.156640\n",
    "168,40.795490,-73.940980\n",
    "169,40.817360,-73.956960\n",
    "170,40.756280,-73.962630\n",
    "171,40.692370,-73.833330\n",
    "172,40.584340,-74.106880\n",
    "173,40.706110,-73.911380\n",
    "174,40.692880,-73.867950\n",
    "175,40.659910,-73.820980\n",
    "176,40.601450,-74.098710\n",
    "177,40.690850,-73.998010\n",
    "178,40.680430,-73.993420\n",
    "179,40.645480,-73.959380\n",
    "180,40.652110,-73.964240\n",
    "181,40.737110,-73.986300\n",
    "182,40.844320,-73.880120\n",
    "183,40.866160,-73.882700\n",
    "184,40.826720,-73.859660\n",
    "185,40.810000,-73.896780\n",
    "186,40.752010,-73.993210\n",
    "187,40.638760,-74.084260\n",
    "188,40.669810,-73.929840\n",
    "189,40.678460,-73.931750\n",
    "190,40.757870,-73.969890\n",
    "191,40.595930,-74.088670\n",
    "192,40.583560,-74.072710\n",
    "193,40.767120,-73.881240\n",
    "194,40.697420,-73.808020\n",
    "195,40.635870,-73.812970\n",
    "196,40.709110,-73.867090\n",
    "197,40.710730,-73.880480\n",
    "198,40.724730,-73.880890\n",
    "199,40.873530,-73.844160\n",
    "200,40.659340,-73.796330\n",
    "201,40.602730,-74.113330\n",
    "202,40.715340,-74.004310\n",
    "203,40.640690,-73.944230\n",
    "204,40.551720,-74.204360\n",
    "205,40.678520,-73.842780\n",
    "206,40.642510,-73.848690\n",
    "207,40.627040,-74.156090\n",
    "208,40.771030,-73.905910\n",
    "209,40.739330,-73.974460\n",
    "210,40.730720,-73.991240\n",
    "211,40.721930,-74.000160\n",
    "212,40.686530,-73.834010\n",
    "213,40.672040,-73.791520\n",
    "214,40.584740,-74.057390\n",
    "215,40.617540,-74.043810\n",
    "216,40.617430,-74.092170\n",
    "217,40.626880,-74.114780\n",
    "218,40.573220,-74.098370\n",
    "219,40.596660,-74.045790\n",
    "220,40.577280,-74.067820\n",
    "221,40.607480,-74.153920\n",
    "222,40.655270,-73.991910\n",
    "223,40.688140,-73.910300\n",
    "224,40.749170,-74.001200\n",
    "225,40.686250,-73.939160\n",
    "226,40.710490,-73.983940\n",
    "227,40.697620,-73.910790\n",
    "228,40.758410,-73.919250\n",
    "229,40.782340,-73.953790\n",
    "230,40.760010,-73.988020\n",
    "231,40.792290,-73.959930\n",
    "232,40.797230,-73.951520\n",
    "233,40.733560,-73.985930\n",
    "234,40.749760,-73.991380\n",
    "235,40.853040,-73.828230\n",
    "236,40.775980,-73.953680\n",
    "237,40.771820,-73.966230\n",
    "238,40.754230,-73.973490\n",
    "239,40.757900,-73.978250\n",
    "240,40.840740,-73.939230\n",
    "241,40.864750,-73.897440\n",
    "242,40.860010,-73.871330\n",
    "243,40.803520,-73.949600\n",
    "244,40.807870,-73.945410\n",
    "245,40.893120,-73.882340\n",
    "246,40.740290,-73.994010\n",
    "247,40.676380,-73.975390\n",
    "248,40.669020,-73.961430\n",
    "249,40.747480,-73.986220\n",
    "250,40.728950,-73.992080\n",
    "251,40.570000,-74.113060\n",
    "252,40.851970,-73.928170\n",
    "253,40.858700,-73.933330\n",
    "254,40.876540,-73.909940\n",
    "255,40.743990,-73.945930\n",
    "256,40.734410,-73.954490\n",
    "257,40.748350,-73.944370\n",
    "258,40.718320,-73.908510\n",
    "259,40.670350,-73.834920\n",
    "260,40.702780,-73.883640\n",
    "261,40.733310,-73.959830\n",
    "262,40.753330,-73.982270\n",
    "263,40.748360,-73.988180\n",
    "264,0.000000,0.000000\n",
    "265,0.000000,0.000000\n",
    "\"\"\"\n",
    "\n",
    "# --- Load the coordinates data from the embedded string ---\n",
    "print(\"Loading coordinates data from embedded string...\")\n",
    "# Use io.StringIO to treat the string as a file\n",
    "df_coords = pd.read_csv(io.StringIO(csv_data))\n",
    "print(\"✅ Coordinates loaded successfully!\")\n",
    "\n",
    "# --- Perform the final merge to add coordinates ---\n",
    "print(\"\\nMerging data with coordinates...\")\n",
    "\n",
    "# Merge our main data with the coordinates based on the 'LocationID'\n",
    "df_final = pd.merge(\n",
    "    left=df_merged,\n",
    "    right=df_coords[['LocationID', 'latitude', 'longitude']], # Select only the columns we need\n",
    "    how='inner',\n",
    "    on='LocationID'\n",
    ")\n",
    "\n",
    "# --- Clean up invalid locations ---\n",
    "# Remove any orders where the location is (0,0) or unknown\n",
    "df_final = df_final[df_final['latitude'] != 0].copy()\n",
    "df_final = df_final[df_final['Borough'] != 'Unknown'].copy()\n",
    "\n",
    "\n",
    "print(\"✅ Final merge successful!\")\n",
    "print(\"\\nOur data now has latitude and longitude for every order.\")\n",
    "\n",
    "# Display the first 5 rows of the final dataset\n",
    "display(df_final.head())\n",
    "\n",
    "# Display the final shape of our dataset\n",
    "print(f\"\\nShape of the final dataset: {df_final.shape}\")"
   ]
  },
  {
   "cell_type": "code",
   "execution_count": 5,
   "id": "d2a4d552",
   "metadata": {},
   "outputs": [
    {
     "name": "stdout",
     "output_type": "stream",
     "text": [
      "Taking a random sample of 200 clinic/pharmacy orders...\n",
      "✅ Sampled orders are ready.\n",
      "\n",
      "Generating interactive map of medical distribution network...\n"
     ]
    },
    {
     "name": "stderr",
     "output_type": "stream",
     "text": [
      "C:\\Users\\abravikumar\\AppData\\Local\\Temp\\ipykernel_15072\\2328559095.py:34: DeprecationWarning: *scatter_mapbox* is deprecated! Use *scatter_map* instead. Learn more at: https://plotly.com/python/mapbox-to-maplibre/\n",
      "  fig = px.scatter_mapbox(\n",
      "C:\\Users\\abravikumar\\AppData\\Local\\Temp\\ipykernel_15072\\2328559095.py:48: DeprecationWarning:\n",
      "\n",
      "*scatter_mapbox* is deprecated! Use *scatter_map* instead. Learn more at: https://plotly.com/python/mapbox-to-maplibre/\n",
      "\n"
     ]
    },
    {
     "data": {
      "application/vnd.plotly.v1+json": {
       "config": {
        "plotlyServerURL": "https://plot.ly"
       },
       "data": [
        {
         "customdata": {
          "bdata": "AAAxACAAAQAtAC8AAgApAC4AAwAnABYABAAOACwABQAQAC0ABgAlAA8ABwAQABEACAAUABkACQAuACMACgANACgACwASAA4ADAALABkADQApAC8ADgAZACQADwAOADEAEAAPACcAEQAmACEAEgAMAB8AEwAVACoAFAAqABEAFQAbACAAFgAqAC4AFwArACwAGAAZACgAGQAeACMAGgAmABsAGwALAAoAHAANACYAHQAaAC4AHgASACYAHwAKAAsAIAAtAAoAIQASABsAIgAgACwAIwAOACIAJAAdABQAJQAsAC8AJgAuACYAJwAdABMAKAAPACMAKQANABIAKgAKABwAKwAYABQALAAdACMALQAnABQALgAxAA4ALwAxACMAMAAZACUAMQAfACUAMgARACIAMwApACwANAAMAA8ANQAXABsANgAZADEANwASAB4AOAAeACEAOQAmACAAOgANABsAOwAUABcAPAAqABMAPQAcAC8APgAKABsAPwAkAC4AQAAbABUAQQAgACAAQgAsACQAQwAVAAsARAAsABoARQARACgARgAfAA0ARwAMABUASAAPACoASQAmAC8ASgAWACcASwAkABoATAAgAC8ATQAaAC4ATgAaAA8ATwARAA4AUAAVACUAUQAbAB8AUgAaABcAUwAWADAAVAAXACQAVQAsAA4AVgAhAC0AVwAhABwAWAAwAC0AWQAhABkAWgAlACAAWwAcABMAXAAgACoAXQAiACAAXgAgABQAXwAlAA8AYAAnACwAYQAlACkAYgAWABkAYwAKAB4AZAAiAC0AZQAlABYAZgALABkAZwAVAAsAaAAoABgAaQAMAA0AagAoAAsAawAeAA0AbAANACQAbQATACQAbgAtACMAbwAwABEAcAAfAB4AcQAYACsAcgAiABwAcwALAB0AdAAeABgAdQAwABAAdgAdAAoAdwAOABUAeAAZAB0AeQATABAAegAbABoAewAdAAoAfAAZABoAfQAMAAsAfgAUAC0AfwAQAA8AgAAZACYAgQAkABgAggAuACAAgwALAAwAhAAhABgAhQAsABUAhgAOACMAhwALAC4AiAAcACQAiQATACkAigAfAC4AiwAKADEAjAAsABMAjQAsACsAjgAiAAoAjwASACEAkAAUAC4AkQAkACsAkgAUACcAkwArAC0AlAAmACcAlQAsABQAlgAnABIAlwAsACIAmAAwACsAmQAoABsAmgAMACcAmwAkAB8AnAAoACYAnQAmAAsAngAlABAAnwAZABMAoAAaABIAoQAjABgAogAvACQAowAcACsApAAqADEApQArAAsApgAnABQApwANABoAqAAcAB0AqQASACAAqgAQABAAqwAkABgArAAXAB8ArQANAA8ArgAbABQArwALABcAsAASADAAsQAjABQAsgANABYAswAXAA8AtAAUAC0AtQAMABoAtgAhAAoAtwAcABkAuAAWAC8AuQArABkAugAkAC0AuwAOAC4AvAAZACAAvQAZACkAvgAOABcAvwAPABcAwAAjAA8AwQAmACsAwgAPACUAwwAWABEAxAAnAAwAxQAYAC4AxgAQADEAxwAUACgA",
          "dtype": "i2",
          "shape": "200, 3"
         },
         "hovertemplate": "<b>%{hovertext}</b><br><br>latitude=%{lat}<br>longitude=%{lon}<br>Order_ID=%{customdata[0]}<br>Sterile_Kits_Demand=%{customdata[1]}<br>Vaccine_Packs_Demand=%{customdata[2]}<extra></extra>",
         "hovertext": [
          "Upper East Side North",
          "Clinton East",
          "Morningside Heights",
          "Yorkville West",
          "Alphabet City",
          "Upper East Side North",
          "Lincoln Square East",
          "Upper West Side South",
          "Upper East Side North",
          "East Harlem South",
          "Clinton East",
          "Midtown North",
          "West Chelsea/Hudson Yards",
          "Midtown Center",
          "Times Sq/Theatre District",
          "Times Sq/Theatre District",
          "Midtown Center",
          "JFK Airport",
          "Midtown Center",
          "Garment District",
          "West Village",
          "Times Sq/Theatre District",
          "Times Sq/Theatre District",
          "Upper West Side South",
          "UN/Turtle Bay South",
          "West Concourse",
          "Midtown Center",
          "Times Sq/Theatre District",
          "Kips Bay",
          "Times Sq/Theatre District",
          "Greenwich Village South",
          "Upper East Side North",
          "Lenox Hill West",
          "Midtown South",
          "Yorkville East",
          "Yorkville West",
          "East Harlem South",
          "Union Sq",
          "TriBeCa/Civic Center",
          "Lenox Hill East",
          "Garment District",
          "Upper East Side North",
          "LaGuardia Airport",
          "SoHo",
          "Midtown Center",
          "JFK Airport",
          "Penn Station/Madison Sq West",
          "Sutton Place/Turtle Bay North",
          "Upper East Side North",
          "Hudson Sq",
          "East Village",
          "Clinton East",
          "Clinton East",
          "Greenwich Village North",
          "Upper East Side North",
          "SoHo",
          "Upper West Side South",
          "Kips Bay",
          "Midtown South",
          "UN/Turtle Bay South",
          "Lincoln Square East",
          "Garment District",
          "West Village",
          "Midtown Center",
          "Schuylerville/Edgewater Park",
          "JFK Airport",
          "Yorkville East",
          "West Village",
          "LaGuardia Airport",
          "Times Sq/Theatre District",
          "TriBeCa/Civic Center",
          "Times Sq/Theatre District",
          "Central Harlem",
          "JFK Airport",
          "Kips Bay",
          "Upper East Side North",
          "LaGuardia Airport",
          "Upper West Side South",
          "Upper West Side South",
          "Upper East Side South",
          "Lincoln Square East",
          "Greenwich Village South",
          "Lower East Side",
          "Greenwich Village North",
          "LaGuardia Airport",
          "Woodlawn/Wakefield",
          "East Chelsea",
          "Upper East Side South",
          "Times Sq/Theatre District",
          "Lenox Hill West",
          "Lenox Hill West",
          "Garment District",
          "TriBeCa/Civic Center",
          "Upper East Side South",
          "Midtown Center",
          "Lenox Hill East",
          "West Chelsea/Hudson Yards",
          "Midtown North",
          "Lincoln Square East",
          "West Chelsea/Hudson Yards",
          "Murray Hill",
          "Midtown North",
          "Clinton East",
          "Lower East Side",
          "Midtown East",
          "Kips Bay",
          "Sutton Place/Turtle Bay North",
          "Garment District",
          "Times Sq/Theatre District",
          "East Elmhurst",
          "West Village",
          "Upper East Side South",
          "Midtown South",
          "Clinton East",
          "Kips Bay",
          "Gramercy",
          "Midtown Center",
          "Midtown East",
          "Lenox Hill East",
          "Yorkville West",
          "Clinton East",
          "JFK Airport",
          "Lincoln Square East",
          "Upper West Side South",
          "Lower East Side",
          "Upper East Side North",
          "Kips Bay",
          "Manhattan Valley",
          "West Chelsea/Hudson Yards",
          "Upper East Side South",
          "Gramercy",
          "Gramercy",
          "Penn Station/Madison Sq West",
          "Two Bridges/Seward Park",
          "SoHo",
          "Upper East Side North",
          "Midtown East",
          "Midtown East",
          "Murray Hill",
          "Times Sq/Theatre District",
          "Clinton East",
          "Times Sq/Theatre District",
          "Midtown Center",
          "Manhattan Valley",
          "Upper West Side North",
          "Midtown South",
          "Penn Station/Madison Sq West",
          "Murray Hill",
          "SoHo",
          "Meatpacking/West Village West",
          "JFK Airport",
          "Upper West Side North",
          "Garment District",
          "Lincoln Square West",
          "Midtown Center",
          "JFK Airport",
          "Little Italy/NoLiTa",
          "JFK Airport",
          "Yorkville East",
          "Upper West Side North",
          "East Chelsea",
          "Midtown North",
          "Meatpacking/West Village West",
          "Upper East Side North",
          "East Village",
          "Midtown East",
          "Lower East Side",
          "Times Sq/Theatre District",
          "Upper East Side North",
          "LaGuardia Airport",
          "Gramercy",
          "East Chelsea",
          "Midtown East",
          "Upper East Side North",
          "Lenox Hill West",
          "Lenox Hill West",
          "JFK Airport",
          "JFK Airport",
          "Upper East Side South",
          "Upper East Side South",
          "Chinatown",
          "Lenox Hill West",
          "Midtown North",
          "Upper East Side North",
          "Midtown Center",
          "Midtown North",
          "Gramercy",
          "JFK Airport",
          "UN/Turtle Bay South",
          "Penn Station/Madison Sq West",
          "Upper East Side South",
          "Clinton East",
          "Central Park",
          "Midtown North",
          "Union Sq",
          "Lincoln Square East",
          "Lenox Hill East",
          "Flatiron",
          "Lenox Hill East",
          "Meatpacking/West Village West"
         ],
         "lat": {
          "bdata": "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",
          "dtype": "f8"
         },
         "legendgroup": "",
         "lon": {
          "bdata": "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",
          "dtype": "f8"
         },
         "marker": {
          "color": "blue"
         },
         "mode": "markers",
         "name": "",
         "showlegend": false,
         "subplot": "mapbox",
         "type": "scattermapbox"
        },
        {
         "customdata": {
          "bdata": "WAUAAIoGAACbBgAASgMAAKIHAACuBgAAAQIAANsEAABnBAAAzgQAAA==",
          "dtype": "i4",
          "shape": "5, 2"
         },
         "hovertemplate": "<b>%{hovertext}</b><br><br>Latitude=%{lat}<br>Longitude=%{lon}<br>Sterile_Kits_Stock=%{customdata[0]}<br>Vaccine_Packs_Stock=%{customdata[1]}<extra></extra>",
         "hovertext": [
          "DEPOT_MANHATTAN",
          "DEPOT_QUEENS",
          "DEPOT_BROOKLYN",
          "DEPOT_BRONX",
          "DEPOT_STATEN_ISLAND"
         ],
         "lat": {
          "bdata": "sb/snjxkREA+eVioNV1EQNcS8kHPVkRAldQJaCJsREAZBFYOLUpEQA==",
          "dtype": "f8"
         },
         "legendgroup": "",
         "lon": {
          "bdata": "A3gLJCh+UsDJ5T+k33JSwIY41sVtfFLALGUZ4lh3UsD99nXgnIlSwA==",
          "dtype": "f8"
         },
         "marker": {
          "color": "red"
         },
         "mode": "markers",
         "name": "",
         "showlegend": false,
         "subplot": "mapbox",
         "type": "scattermapbox"
        }
       ],
       "layout": {
        "height": 600,
        "legend": {
         "tracegroupgap": 0
        },
        "mapbox": {
         "center": {
          "lat": 40.7583924,
          "lon": -73.97308025000001
         },
         "domain": {
          "x": [
           0,
           1
          ],
          "y": [
           0,
           1
          ]
         },
         "style": "open-street-map",
         "zoom": 9
        },
        "margin": {
         "b": 0,
         "l": 0,
         "r": 0,
         "t": 40
        },
        "template": {
         "data": {
          "bar": [
           {
            "error_x": {
             "color": "#2a3f5f"
            },
            "error_y": {
             "color": "#2a3f5f"
            },
            "marker": {
             "line": {
              "color": "#E5ECF6",
              "width": 0.5
             },
             "pattern": {
              "fillmode": "overlay",
              "size": 10,
              "solidity": 0.2
             }
            },
            "type": "bar"
           }
          ],
          "barpolar": [
           {
            "marker": {
             "line": {
              "color": "#E5ECF6",
              "width": 0.5
             },
             "pattern": {
              "fillmode": "overlay",
              "size": 10,
              "solidity": 0.2
             }
            },
            "type": "barpolar"
           }
          ],
          "carpet": [
           {
            "aaxis": {
             "endlinecolor": "#2a3f5f",
             "gridcolor": "white",
             "linecolor": "white",
             "minorgridcolor": "white",
             "startlinecolor": "#2a3f5f"
            },
            "baxis": {
             "endlinecolor": "#2a3f5f",
             "gridcolor": "white",
             "linecolor": "white",
             "minorgridcolor": "white",
             "startlinecolor": "#2a3f5f"
            },
            "type": "carpet"
           }
          ],
          "choropleth": [
           {
            "colorbar": {
             "outlinewidth": 0,
             "ticks": ""
            },
            "type": "choropleth"
           }
          ],
          "contour": [
           {
            "colorbar": {
             "outlinewidth": 0,
             "ticks": ""
            },
            "colorscale": [
             [
              0,
              "#0d0887"
             ],
             [
              0.1111111111111111,
              "#46039f"
             ],
             [
              0.2222222222222222,
              "#7201a8"
             ],
             [
              0.3333333333333333,
              "#9c179e"
             ],
             [
              0.4444444444444444,
              "#bd3786"
             ],
             [
              0.5555555555555556,
              "#d8576b"
             ],
             [
              0.6666666666666666,
              "#ed7953"
             ],
             [
              0.7777777777777778,
              "#fb9f3a"
             ],
             [
              0.8888888888888888,
              "#fdca26"
             ],
             [
              1,
              "#f0f921"
             ]
            ],
            "type": "contour"
           }
          ],
          "contourcarpet": [
           {
            "colorbar": {
             "outlinewidth": 0,
             "ticks": ""
            },
            "type": "contourcarpet"
           }
          ],
          "heatmap": [
           {
            "colorbar": {
             "outlinewidth": 0,
             "ticks": ""
            },
            "colorscale": [
             [
              0,
              "#0d0887"
             ],
             [
              0.1111111111111111,
              "#46039f"
             ],
             [
              0.2222222222222222,
              "#7201a8"
             ],
             [
              0.3333333333333333,
              "#9c179e"
             ],
             [
              0.4444444444444444,
              "#bd3786"
             ],
             [
              0.5555555555555556,
              "#d8576b"
             ],
             [
              0.6666666666666666,
              "#ed7953"
             ],
             [
              0.7777777777777778,
              "#fb9f3a"
             ],
             [
              0.8888888888888888,
              "#fdca26"
             ],
             [
              1,
              "#f0f921"
             ]
            ],
            "type": "heatmap"
           }
          ],
          "histogram": [
           {
            "marker": {
             "pattern": {
              "fillmode": "overlay",
              "size": 10,
              "solidity": 0.2
             }
            },
            "type": "histogram"
           }
          ],
          "histogram2d": [
           {
            "colorbar": {
             "outlinewidth": 0,
             "ticks": ""
            },
            "colorscale": [
             [
              0,
              "#0d0887"
             ],
             [
              0.1111111111111111,
              "#46039f"
             ],
             [
              0.2222222222222222,
              "#7201a8"
             ],
             [
              0.3333333333333333,
              "#9c179e"
             ],
             [
              0.4444444444444444,
              "#bd3786"
             ],
             [
              0.5555555555555556,
              "#d8576b"
             ],
             [
              0.6666666666666666,
              "#ed7953"
             ],
             [
              0.7777777777777778,
              "#fb9f3a"
             ],
             [
              0.8888888888888888,
              "#fdca26"
             ],
             [
              1,
              "#f0f921"
             ]
            ],
            "type": "histogram2d"
           }
          ],
          "histogram2dcontour": [
           {
            "colorbar": {
             "outlinewidth": 0,
             "ticks": ""
            },
            "colorscale": [
             [
              0,
              "#0d0887"
             ],
             [
              0.1111111111111111,
              "#46039f"
             ],
             [
              0.2222222222222222,
              "#7201a8"
             ],
             [
              0.3333333333333333,
              "#9c179e"
             ],
             [
              0.4444444444444444,
              "#bd3786"
             ],
             [
              0.5555555555555556,
              "#d8576b"
             ],
             [
              0.6666666666666666,
              "#ed7953"
             ],
             [
              0.7777777777777778,
              "#fb9f3a"
             ],
             [
              0.8888888888888888,
              "#fdca26"
             ],
             [
              1,
              "#f0f921"
             ]
            ],
            "type": "histogram2dcontour"
           }
          ],
          "mesh3d": [
           {
            "colorbar": {
             "outlinewidth": 0,
             "ticks": ""
            },
            "type": "mesh3d"
           }
          ],
          "parcoords": [
           {
            "line": {
             "colorbar": {
              "outlinewidth": 0,
              "ticks": ""
             }
            },
            "type": "parcoords"
           }
          ],
          "pie": [
           {
            "automargin": true,
            "type": "pie"
           }
          ],
          "scatter": [
           {
            "fillpattern": {
             "fillmode": "overlay",
             "size": 10,
             "solidity": 0.2
            },
            "type": "scatter"
           }
          ],
          "scatter3d": [
           {
            "line": {
             "colorbar": {
              "outlinewidth": 0,
              "ticks": ""
             }
            },
            "marker": {
             "colorbar": {
              "outlinewidth": 0,
              "ticks": ""
             }
            },
            "type": "scatter3d"
           }
          ],
          "scattercarpet": [
           {
            "marker": {
             "colorbar": {
              "outlinewidth": 0,
              "ticks": ""
             }
            },
            "type": "scattercarpet"
           }
          ],
          "scattergeo": [
           {
            "marker": {
             "colorbar": {
              "outlinewidth": 0,
              "ticks": ""
             }
            },
            "type": "scattergeo"
           }
          ],
          "scattergl": [
           {
            "marker": {
             "colorbar": {
              "outlinewidth": 0,
              "ticks": ""
             }
            },
            "type": "scattergl"
           }
          ],
          "scattermap": [
           {
            "marker": {
             "colorbar": {
              "outlinewidth": 0,
              "ticks": ""
             }
            },
            "type": "scattermap"
           }
          ],
          "scattermapbox": [
           {
            "marker": {
             "colorbar": {
              "outlinewidth": 0,
              "ticks": ""
             }
            },
            "type": "scattermapbox"
           }
          ],
          "scatterpolar": [
           {
            "marker": {
             "colorbar": {
              "outlinewidth": 0,
              "ticks": ""
             }
            },
            "type": "scatterpolar"
           }
          ],
          "scatterpolargl": [
           {
            "marker": {
             "colorbar": {
              "outlinewidth": 0,
              "ticks": ""
             }
            },
            "type": "scatterpolargl"
           }
          ],
          "scatterternary": [
           {
            "marker": {
             "colorbar": {
              "outlinewidth": 0,
              "ticks": ""
             }
            },
            "type": "scatterternary"
           }
          ],
          "surface": [
           {
            "colorbar": {
             "outlinewidth": 0,
             "ticks": ""
            },
            "colorscale": [
             [
              0,
              "#0d0887"
             ],
             [
              0.1111111111111111,
              "#46039f"
             ],
             [
              0.2222222222222222,
              "#7201a8"
             ],
             [
              0.3333333333333333,
              "#9c179e"
             ],
             [
              0.4444444444444444,
              "#bd3786"
             ],
             [
              0.5555555555555556,
              "#d8576b"
             ],
             [
              0.6666666666666666,
              "#ed7953"
             ],
             [
              0.7777777777777778,
              "#fb9f3a"
             ],
             [
              0.8888888888888888,
              "#fdca26"
             ],
             [
              1,
              "#f0f921"
             ]
            ],
            "type": "surface"
           }
          ],
          "table": [
           {
            "cells": {
             "fill": {
              "color": "#EBF0F8"
             },
             "line": {
              "color": "white"
             }
            },
            "header": {
             "fill": {
              "color": "#C8D4E3"
             },
             "line": {
              "color": "white"
             }
            },
            "type": "table"
           }
          ]
         },
         "layout": {
          "annotationdefaults": {
           "arrowcolor": "#2a3f5f",
           "arrowhead": 0,
           "arrowwidth": 1
          },
          "autotypenumbers": "strict",
          "coloraxis": {
           "colorbar": {
            "outlinewidth": 0,
            "ticks": ""
           }
          },
          "colorscale": {
           "diverging": [
            [
             0,
             "#8e0152"
            ],
            [
             0.1,
             "#c51b7d"
            ],
            [
             0.2,
             "#de77ae"
            ],
            [
             0.3,
             "#f1b6da"
            ],
            [
             0.4,
             "#fde0ef"
            ],
            [
             0.5,
             "#f7f7f7"
            ],
            [
             0.6,
             "#e6f5d0"
            ],
            [
             0.7,
             "#b8e186"
            ],
            [
             0.8,
             "#7fbc41"
            ],
            [
             0.9,
             "#4d9221"
            ],
            [
             1,
             "#276419"
            ]
           ],
           "sequential": [
            [
             0,
             "#0d0887"
            ],
            [
             0.1111111111111111,
             "#46039f"
            ],
            [
             0.2222222222222222,
             "#7201a8"
            ],
            [
             0.3333333333333333,
             "#9c179e"
            ],
            [
             0.4444444444444444,
             "#bd3786"
            ],
            [
             0.5555555555555556,
             "#d8576b"
            ],
            [
             0.6666666666666666,
             "#ed7953"
            ],
            [
             0.7777777777777778,
             "#fb9f3a"
            ],
            [
             0.8888888888888888,
             "#fdca26"
            ],
            [
             1,
             "#f0f921"
            ]
           ],
           "sequentialminus": [
            [
             0,
             "#0d0887"
            ],
            [
             0.1111111111111111,
             "#46039f"
            ],
            [
             0.2222222222222222,
             "#7201a8"
            ],
            [
             0.3333333333333333,
             "#9c179e"
            ],
            [
             0.4444444444444444,
             "#bd3786"
            ],
            [
             0.5555555555555556,
             "#d8576b"
            ],
            [
             0.6666666666666666,
             "#ed7953"
            ],
            [
             0.7777777777777778,
             "#fb9f3a"
            ],
            [
             0.8888888888888888,
             "#fdca26"
            ],
            [
             1,
             "#f0f921"
            ]
           ]
          },
          "colorway": [
           "#636efa",
           "#EF553B",
           "#00cc96",
           "#ab63fa",
           "#FFA15A",
           "#19d3f3",
           "#FF6692",
           "#B6E880",
           "#FF97FF",
           "#FECB52"
          ],
          "font": {
           "color": "#2a3f5f"
          },
          "geo": {
           "bgcolor": "white",
           "lakecolor": "white",
           "landcolor": "#E5ECF6",
           "showlakes": true,
           "showland": true,
           "subunitcolor": "white"
          },
          "hoverlabel": {
           "align": "left"
          },
          "hovermode": "closest",
          "mapbox": {
           "style": "light"
          },
          "paper_bgcolor": "white",
          "plot_bgcolor": "#E5ECF6",
          "polar": {
           "angularaxis": {
            "gridcolor": "white",
            "linecolor": "white",
            "ticks": ""
           },
           "bgcolor": "#E5ECF6",
           "radialaxis": {
            "gridcolor": "white",
            "linecolor": "white",
            "ticks": ""
           }
          },
          "scene": {
           "xaxis": {
            "backgroundcolor": "#E5ECF6",
            "gridcolor": "white",
            "gridwidth": 2,
            "linecolor": "white",
            "showbackground": true,
            "ticks": "",
            "zerolinecolor": "white"
           },
           "yaxis": {
            "backgroundcolor": "#E5ECF6",
            "gridcolor": "white",
            "gridwidth": 2,
            "linecolor": "white",
            "showbackground": true,
            "ticks": "",
            "zerolinecolor": "white"
           },
           "zaxis": {
            "backgroundcolor": "#E5ECF6",
            "gridcolor": "white",
            "gridwidth": 2,
            "linecolor": "white",
            "showbackground": true,
            "ticks": "",
            "zerolinecolor": "white"
           }
          },
          "shapedefaults": {
           "line": {
            "color": "#2a3f5f"
           }
          },
          "ternary": {
           "aaxis": {
            "gridcolor": "white",
            "linecolor": "white",
            "ticks": ""
           },
           "baxis": {
            "gridcolor": "white",
            "linecolor": "white",
            "ticks": ""
           },
           "bgcolor": "#E5ECF6",
           "caxis": {
            "gridcolor": "white",
            "linecolor": "white",
            "ticks": ""
           }
          },
          "title": {
           "x": 0.05
          },
          "xaxis": {
           "automargin": true,
           "gridcolor": "white",
           "linecolor": "white",
           "ticks": "",
           "title": {
            "standoff": 15
           },
           "zerolinecolor": "white",
           "zerolinewidth": 2
          },
          "yaxis": {
           "automargin": true,
           "gridcolor": "white",
           "linecolor": "white",
           "ticks": "",
           "title": {
            "standoff": 15
           },
           "zerolinecolor": "white",
           "zerolinewidth": 2
          }
         }
        },
        "title": {
         "text": "Medical Supply Network: Depots and Clinic/Pharmacy Orders"
        }
       }
      }
     },
     "metadata": {},
     "output_type": "display_data"
    }
   ],
   "source": [
    "import pandas as pd\n",
    "import numpy as np\n",
    "import plotly.express as px\n",
    "\n",
    "# --- 1. Recreate Warehouses as Medical Depots ---\n",
    "# We'll create this DataFrame directly in the code for simplicity\n",
    "warehouse_data = {\n",
    "    'Warehouse_ID': ['DEPOT_MANHATTAN', 'DEPOT_QUEENS', 'DEPOT_BROOKLYN', 'DEPOT_BRONX', 'DEPOT_STATEN_ISLAND'],\n",
    "    'Latitude': [40.7831, 40.7282, 40.6782, 40.8448, 40.5795],\n",
    "    'Longitude': [-73.9712, -73.7949, -73.9442, -73.8648, -74.1502],\n",
    "    'Sterile_Kits_Stock': np.random.randint(500, 2000, size=5),\n",
    "    'Vaccine_Packs_Stock': np.random.randint(500, 2000, size=5)\n",
    "}\n",
    "warehouses_df = pd.DataFrame(warehouse_data)\n",
    "\n",
    "\n",
    "# --- 2. Prepare a Sample of Clinic/Pharmacy Orders ---\n",
    "print(\"Taking a random sample of 200 clinic/pharmacy orders...\")\n",
    "orders_df = df_final.sample(n=200, random_state=42).copy()\n",
    "\n",
    "# Add simulated medical supply demand\n",
    "orders_df['Sterile_Kits_Demand'] = np.random.randint(10, 50, size=len(orders_df))\n",
    "orders_df['Vaccine_Packs_Demand'] = np.random.randint(10, 50, size=len(orders_df))\n",
    "\n",
    "# Reset the index to get a clean Order_ID\n",
    "orders_df.reset_index(drop=True, inplace=True)\n",
    "orders_df['Order_ID'] = orders_df.index\n",
    "print(\"✅ Sampled orders are ready.\")\n",
    "\n",
    "\n",
    "# --- 3. Create the Updated Interactive Map ---\n",
    "print(\"\\nGenerating interactive map of medical distribution network...\")\n",
    "\n",
    "fig = px.scatter_mapbox(\n",
    "    orders_df,\n",
    "    lat=\"latitude\",\n",
    "    lon=\"longitude\",\n",
    "    hover_name=\"Zone\",\n",
    "    hover_data=[\"Order_ID\", \"Sterile_Kits_Demand\", \"Vaccine_Packs_Demand\"],\n",
    "    color_discrete_sequence=[\"blue\"],\n",
    "    zoom=9,\n",
    "    height=600,\n",
    "    title=\"Medical Supply Network: Depots and Clinic/Pharmacy Orders\"\n",
    ")\n",
    "\n",
    "# Add a second layer for our medical depots\n",
    "fig.add_trace(\n",
    "    px.scatter_mapbox(\n",
    "        warehouses_df,\n",
    "        lat=\"Latitude\",\n",
    "        lon=\"Longitude\",\n",
    "        hover_name=\"Warehouse_ID\",\n",
    "        hover_data=[\"Sterile_Kits_Stock\", \"Vaccine_Packs_Stock\"],\n",
    "        color_discrete_sequence=[\"red\"],\n",
    "        size_max=20,\n",
    "    ).data[0]\n",
    ")\n",
    "\n",
    "fig.update_layout(\n",
    "    mapbox_style=\"open-street-map\",\n",
    "    margin={\"r\":0,\"t\":40,\"l\":0,\"b\":0}\n",
    ")\n",
    "\n",
    "fig.show()"
   ]
  },
  {
   "cell_type": "code",
   "execution_count": 6,
   "id": "0dd58082",
   "metadata": {},
   "outputs": [
    {
     "name": "stdout",
     "output_type": "stream",
     "text": [
      "Creating the distance matrix...\n",
      "✅ Distance matrix created successfully!\n",
      "Shape of the matrix: (205, 205)\n",
      "\n",
      "First 5x5 part of the matrix (distances between depots):\n",
      "[[ 0.   10.41  7.39  7.24 17.15]\n",
      " [10.41  0.    8.91  8.92 22.07]\n",
      " [ 7.39  8.91  0.   12.3  13.22]\n",
      " [ 7.24  8.92 12.3   0.   24.11]\n",
      " [17.15 22.07 13.22 24.11  0.  ]]\n"
     ]
    }
   ],
   "source": [
    "import numpy as np\n",
    "\n",
    "# --- Combine depots and orders into a single list of locations ---\n",
    "# The first 5 locations will be our depots, the rest are orders\n",
    "all_locations_df = pd.concat([\n",
    "    warehouses_df.rename(columns={'Latitude': 'lat', 'Longitude': 'lon'}),\n",
    "    orders_df.rename(columns={'latitude': 'lat', 'longitude': 'lon'})\n",
    "], ignore_index=True)\n",
    "\n",
    "# --- Function to calculate distance (a simple approximation) ---\n",
    "# This uses the Pythagorean theorem on a scaled version of lat/lon\n",
    "def calculate_distance(lat1, lon1, lat2, lon2):\n",
    "    # Scaling factor for NYC area (approximate)\n",
    "    # This is a simplification; for real-world use, you'd use a road network API\n",
    "    lat_scale = 69 \n",
    "    lon_scale = 55\n",
    "    x1, y1 = lat1 * lat_scale, lon1 * lon_scale\n",
    "    x2, y2 = lat2 * lat_scale, lon2 * lon_scale\n",
    "    return np.sqrt((x2 - x1)**2 + (y2 - y1)**2)\n",
    "\n",
    "# --- Create the distance matrix ---\n",
    "print(\"Creating the distance matrix...\")\n",
    "num_locations = len(all_locations_df)\n",
    "distance_matrix = np.zeros((num_locations, num_locations))\n",
    "\n",
    "for i in range(num_locations):\n",
    "    for j in range(num_locations):\n",
    "        if i == j:\n",
    "            continue # Distance from a point to itself is 0\n",
    "        loc_i = all_locations_df.iloc[i]\n",
    "        loc_j = all_locations_df.iloc[j]\n",
    "        distance_matrix[i, j] = calculate_distance(loc_i['lat'], loc_i['lon'], loc_j['lat'], loc_j['lon'])\n",
    "\n",
    "print(\"✅ Distance matrix created successfully!\")\n",
    "print(f\"Shape of the matrix: {distance_matrix.shape}\")\n",
    "print(\"\\nFirst 5x5 part of the matrix (distances between depots):\")\n",
    "print(distance_matrix[:5, :5].round(2))"
   ]
  },
  {
   "cell_type": "code",
   "execution_count": 7,
   "id": "ed79bd89",
   "metadata": {},
   "outputs": [
    {
     "name": "stdout",
     "output_type": "stream",
     "text": [
      "Solving with an expanded fleet of 25 vehicles (60-second limit)...\n",
      "\n",
      "✅ Solution found!\n",
      "Objective: 145.49 miles\n",
      "Route for vehicle 1:\n",
      " 0 (Load(0)) -> 172 (Load(39)) -> 146 (Load(126)) -> 144 (Load(185)) -> 113 (Load(234)) -> 93 (Load(327)) -> 76 (Load(360)) -> 74 (Load(417)) -> 34 (Load(489)) -> 27 (Load(577)) -> 32 (Load(598)) -> 0 (Load(598))\n",
      "Distance of the route: 3.68 miles\n",
      "Load of the route: 598\n",
      "\n",
      "Route for vehicle 6:\n",
      " 0 (Load(0)) -> 175 (Load(32)) -> 48 (Load(76)) -> 60 (Load(124)) -> 139 (Load(173)) -> 153 (Load(250)) -> 185 (Load(315)) -> 9 (Load(373)) -> 55 (Load(424)) -> 169 (Load(515)) -> 161 (Load(593)) -> 0 (Load(593))\n",
      "Distance of the route: 9.92 miles\n",
      "Load of the route: 593\n",
      "\n",
      "Route for vehicle 7:\n",
      " 0 (Load(0)) -> 152 (Load(88)) -> 143 (Load(165)) -> 105 (Load(244)) -> 149 (Load(310)) -> 156 (Load(388)) -> 164 (Load(432)) -> 108 (Load(464)) -> 87 (Load(513)) -> 171 (Load(572)) -> 0 (Load(572))\n",
      "Distance of the route: 4.63 miles\n",
      "Load of the route: 572\n",
      "\n",
      "Route for vehicle 8:\n",
      " 0 (Load(0)) -> 31 (Load(65)) -> 23 (Load(108)) -> 21 (Load(162)) -> 18 (Load(250)) -> 72 (Load(282)) -> 115 (Load(362)) -> 67 (Load(399)) -> 8 (Load(460)) -> 40 (Load(508)) -> 124 (Load(543)) -> 197 (Load(593)) -> 0 (Load(593))\n",
      "Distance of the route: 5.34 miles\n",
      "Load of the route: 593\n",
      "\n",
      "Route for vehicle 9:\n",
      " 0 (Load(0)) -> 157 (Load(91)) -> 45 (Load(141)) -> 66 (Load(216)) -> 96 (Load(263)) -> 112 (Load(306)) -> 194 (Load(372)) -> 51 (Load(435)) -> 137 (Load(492)) -> 151 (Load(551)) -> 0 (Load(551))\n",
      "Distance of the route: 5.03 miles\n",
      "Load of the route: 551\n",
      "\n",
      "Route for vehicle 10:\n",
      " 0 (Load(0)) -> 22 (Load(71)) -> 125 (Load(125)) -> 107 (Load(161)) -> 118 (Load(228)) -> 57 (Load(255)) -> 56 (Load(340)) -> 15 (Load(393)) -> 6 (Load(485)) -> 196 (Load(523)) -> 145 (Load(586)) -> 0 (Load(586))\n",
      "Distance of the route: 2.46 miles\n",
      "Load of the route: 586\n",
      "\n",
      "Route for vehicle 11:\n",
      " 0 (Load(0)) -> 199 (Load(52)) -> 42 (Load(143)) -> 104 (Load(183)) -> 133 (Load(246)) -> 101 (Load(329)) -> 17 (Load(365)) -> 148 (Load(416)) -> 132 (Load(447)) -> 54 (Load(515)) -> 202 (Load(585)) -> 0 (Load(585))\n",
      "Distance of the route: 6.98 miles\n",
      "Load of the route: 585\n",
      "\n",
      "Route for vehicle 12:\n",
      " 0 (Load(0)) -> 20 (Load(63)) -> 19 (Load(124)) -> 26 (Load(183)) -> 154 (Load(247)) -> 167 (Load(330)) -> 204 (Load(390)) -> 163 (Load(443)) -> 71 (Load(523)) -> 39 (Load(599)) -> 0 (Load(599))\n",
      "Distance of the route: 5.03 miles\n",
      "Load of the route: 599\n",
      "\n",
      "Route for vehicle 13:\n",
      " 0 (Load(0)) -> 189 (Load(69)) -> 49 (Load(133)) -> 68 (Load(215)) -> 99 (Load(267)) -> 121 (Load(321)) -> 147 (Load(365)) -> 159 (Load(416)) -> 61 (Load(479)) -> 12 (Load(512)) -> 28 (Load(599)) -> 0 (Load(599))\n",
      "Distance of the route: 3.68 miles\n",
      "Load of the route: 599\n",
      "\n",
      "Route for vehicle 14:\n",
      " 0 (Load(0)) -> 91 (Load(78)) -> 165 (Load(122)) -> 176 (Load(182)) -> 58 (Load(232)) -> 88 (Load(302)) -> 38 (Load(347)) -> 63 (Load(387)) -> 117 (Load(448)) -> 150 (Load(527)) -> 0 (Load(527))\n",
      "Distance of the route: 3.91 miles\n",
      "Load of the route: 527\n",
      "\n",
      "Route for vehicle 15:\n",
      " 0 (Load(0)) -> 25 (Load(59)) -> 64 (Load(102)) -> 193 (Load(159)) -> 29 (Load(224)) -> 135 (Load(302)) -> 136 (Load(325)) -> 191 (Load(406)) -> 120 (Load(446)) -> 7 (Load(533)) -> 24 (Load(596)) -> 0 (Load(596))\n",
      "Distance of the route: 7.76 miles\n",
      "Load of the route: 596\n",
      "\n",
      "Route for vehicle 16:\n",
      " 0 (Load(0)) -> 131 (Load(65)) -> 119 (Load(127)) -> 110 (Load(152)) -> 79 (Load(213)) -> 62 (Load(283)) -> 33 (Load(334)) -> 82 (Load(406)) -> 83 (Load(447)) -> 128 (Load(486)) -> 35 (Load(542)) -> 86 (Load(600)) -> 0 (Load(600))\n",
      "Distance of the route: 4.06 miles\n",
      "Load of the route: 600\n",
      "\n",
      "Route for vehicle 17:\n",
      " 0 (Load(0)) -> 166 (Load(59)) -> 106 (Load(118)) -> 102 (Load(196)) -> 16 (Load(228)) -> 177 (Load(282)) -> 170 (Load(336)) -> 142 (Load(396)) -> 141 (Load(460)) -> 122 (Load(524)) -> 109 (Load(588)) -> 0 (Load(588))\n",
      "Distance of the route: 2.75 miles\n",
      "Load of the route: 588\n",
      "\n",
      "Route for vehicle 18:\n",
      " 0 (Load(0)) -> 97 (Load(74)) -> 75 (Load(118)) -> 43 (Load(202)) -> 138 (Load(267)) -> 41 (Load(316)) -> 14 (Load(397)) -> 69 (Load(445)) -> 111 (Load(496)) -> 52 (Load(580)) -> 0 (Load(580))\n",
      "Distance of the route: 9.96 miles\n",
      "Load of the route: 580\n",
      "\n",
      "Route for vehicle 19:\n",
      " 0 (Load(0)) -> 178 (Load(28)) -> 173 (Load(85)) -> 168 (Load(156)) -> 140 (Load(213)) -> 130 (Load(236)) -> 80 (Load(298)) -> 59 (Load(372)) -> 53 (Load(434)) -> 46 (Load(465)) -> 36 (Load(486)) -> 13 (Load(531)) -> 10 (Load(592)) -> 0 (Load(592))\n",
      "Distance of the route: 2.16 miles\n",
      "Load of the route: 592\n",
      "\n",
      "Route for vehicle 20:\n",
      " 0 (Load(0)) -> 188 (Load(53)) -> 5 (Load(134)) -> 203 (Load(199)) -> 201 (Load(250)) -> 123 (Load(289)) -> 100 (Load(341)) -> 44 (Load(389)) -> 158 (Load(456)) -> 98 (Load(522)) -> 84 (Load(553)) -> 0 (Load(553))\n",
      "Distance of the route: 2.84 miles\n",
      "Load of the route: 553\n",
      "\n",
      "Route for vehicle 21:\n",
      " 0 (Load(0)) -> 200 (Load(39)) -> 127 (Load(92)) -> 103 (Load(139)) -> 85 (Load(197)) -> 65 (Load(258)) -> 11 (Load(310)) -> 198 (Load(391)) -> 190 (Load(459)) -> 187 (Load(502)) -> 0 (Load(502))\n",
      "Distance of the route: 2.39 miles\n",
      "Load of the route: 502\n",
      "\n",
      "Route for vehicle 22:\n",
      " 0 (Load(0)) -> 129 (Load(51)) -> 4 (Load(51)) -> 77 (Load(108)) -> 30 (Load(173)) -> 2 (Load(173)) -> 90 (Load(231)) -> 47 (Load(269)) -> 73 (Load(339)) -> 81 (Load(418)) -> 89 (Load(477)) -> 174 (Load(527)) -> 1 (Load(527)) -> 3 (Load(527)) -> 114 (Load(582)) -> 0 (Load(582))\n",
      "Distance of the route: 59.40 miles\n",
      "Load of the route: 582\n",
      "\n",
      "Route for vehicle 23:\n",
      " 0 (Load(0)) -> 192 (Load(60)) -> 182 (Load(115)) -> 181 (Load(181)) -> 162 (Load(230)) -> 160 (Load(297)) -> 155 (Load(354)) -> 126 (Load(389)) -> 78 (Load(474)) -> 70 (Load(538)) -> 50 (Load(597)) -> 0 (Load(597))\n",
      "Distance of the route: 1.62 miles\n",
      "Load of the route: 597\n",
      "\n",
      "Route for vehicle 24:\n",
      " 0 (Load(0)) -> 186 (Load(38)) -> 180 (Load(72)) -> 179 (Load(119)) -> 95 (Load(188)) -> 94 (Load(246)) -> 37 (Load(301)) -> 195 (Load(338)) -> 184 (Load(376)) -> 183 (Load(411)) -> 134 (Load(471)) -> 116 (Load(536)) -> 92 (Load(597)) -> 0 (Load(597))\n",
      "Distance of the route: 1.89 miles\n",
      "Load of the route: 597\n",
      "\n",
      "Total distance of all routes: 145.49 miles\n",
      "Total load of all routes: 11590\n"
     ]
    }
   ],
   "source": [
    "from ortools.constraint_solver import routing_enums_pb2\n",
    "from ortools.constraint_solver import pywrapcp\n",
    "\n",
    "# --- 1. Consolidate Data for the Solver ---\n",
    "orders_df['Total_Demand'] = orders_df['Sterile_Kits_Demand'] + orders_df['Vaccine_Packs_Demand']\n",
    "\n",
    "# <-- THE FIX IS HERE\n",
    "NUM_VEHICLES = 25 # Increased from 10 to 25\n",
    "VEHICLE_CAPACITY = 600\n",
    "\n",
    "data = {}\n",
    "data['distance_matrix'] = distance_matrix\n",
    "data['demands'] = [0] * len(warehouses_df) + list(orders_df['Total_Demand'])\n",
    "data['vehicle_capacities'] = [VEHICLE_CAPACITY] * NUM_VEHICLES\n",
    "data['num_vehicles'] = NUM_VEHICLES\n",
    "data['depot'] = 0\n",
    "\n",
    "\n",
    "# --- 2. Function to Print the Solution ---\n",
    "def print_solution(data, manager, routing, solution):\n",
    "    print(f'Objective: {solution.ObjectiveValue() / 1000:.2f} miles')\n",
    "    total_distance = 0\n",
    "    total_load = 0\n",
    "    for vehicle_id in range(data['num_vehicles']):\n",
    "        index = routing.Start(vehicle_id)\n",
    "        plan_output = f'Route for vehicle {vehicle_id}:\\n'\n",
    "        route_distance = 0\n",
    "        route_load = 0\n",
    "        while not routing.IsEnd(index):\n",
    "            node_index = manager.IndexToNode(index)\n",
    "            route_load += data['demands'][node_index]\n",
    "            plan_output += f' {node_index} (Load({route_load})) ->'\n",
    "            previous_index = index\n",
    "            index = solution.Value(routing.NextVar(index))\n",
    "            route_distance += routing.GetArcCostForVehicle(previous_index, index, vehicle_id)\n",
    "        node_index = manager.IndexToNode(index)\n",
    "        plan_output += f' {node_index} (Load({route_load}))\\n'\n",
    "        plan_output += f'Distance of the route: {route_distance / 1000:.2f} miles\\n'\n",
    "        plan_output += f'Load of the route: {route_load}\\n'\n",
    "        if route_load > 0:\n",
    "            print(plan_output)\n",
    "            total_distance += route_distance\n",
    "            total_load += route_load\n",
    "    print(f'Total distance of all routes: {total_distance / 1000:.2f} miles')\n",
    "    print(f'Total load of all routes: {total_load}')\n",
    "\n",
    "# --- 3. Set Up and Run the Solver ---\n",
    "manager = pywrapcp.RoutingIndexManager(len(data['distance_matrix']), data['num_vehicles'], data['depot'])\n",
    "routing = pywrapcp.RoutingModel(manager)\n",
    "\n",
    "def distance_callback(from_index, to_index):\n",
    "    from_node = manager.IndexToNode(from_index)\n",
    "    to_node = manager.IndexToNode(to_index)\n",
    "    return int(data['distance_matrix'][from_node][to_node] * 1000)\n",
    "\n",
    "transit_callback_index = routing.RegisterTransitCallback(distance_callback)\n",
    "routing.SetArcCostEvaluatorOfAllVehicles(transit_callback_index)\n",
    "\n",
    "def demand_callback(from_index):\n",
    "    from_node = manager.IndexToNode(from_index)\n",
    "    return data['demands'][from_node]\n",
    "\n",
    "demand_callback_index = routing.RegisterUnaryTransitCallback(demand_callback)\n",
    "routing.AddDimensionWithVehicleCapacity(\n",
    "    demand_callback_index, 0, data['vehicle_capacities'], True, 'Capacity'\n",
    ")\n",
    "\n",
    "search_parameters = pywrapcp.DefaultRoutingSearchParameters()\n",
    "search_parameters.first_solution_strategy = (\n",
    "    routing_enums_pb2.FirstSolutionStrategy.AUTOMATIC)\n",
    "search_parameters.local_search_metaheuristic = (\n",
    "    routing_enums_pb2.LocalSearchMetaheuristic.GUIDED_LOCAL_SEARCH)\n",
    "search_parameters.log_search = True\n",
    "search_parameters.time_limit.FromSeconds(60)\n",
    "\n",
    "# Solve the problem\n",
    "print(\"Solving with an expanded fleet of 25 vehicles (60-second limit)...\")\n",
    "solution = routing.SolveWithParameters(search_parameters)\n",
    "\n",
    "if solution:\n",
    "    print(\"\\n✅ Solution found!\")\n",
    "    print_solution(data, manager, routing, solution)\n",
    "else:\n",
    "    print('\\nNo solution found in the time limit!')"
   ]
  },
  {
   "cell_type": "code",
   "execution_count": 8,
   "id": "962bc904",
   "metadata": {},
   "outputs": [
    {
     "name": "stdout",
     "output_type": "stream",
     "text": [
      "--- Running Diagnostic Checks ---\n",
      "\n",
      "[Check 1: Individual Order Size]\n",
      "Largest single order demand: 93 units\n",
      "Single vehicle capacity: 600 units\n",
      "✅ RESULT: PASSED. All individual orders can fit in a vehicle.\n",
      "\n",
      "[Check 2: Total Fleet Capacity]\n",
      "Total demand of all 200 orders: 11590 units\n",
      "Total capacity of all 25 vehicles: 15000 units\n",
      "✅ RESULT: PASSED. The fleet has enough total capacity for all orders.\n"
     ]
    }
   ],
   "source": [
    "# --- Diagnostic Checks ---\n",
    "\n",
    "print(\"--- Running Diagnostic Checks ---\")\n",
    "\n",
    "# Check 1: Is any single order larger than a vehicle's capacity?\n",
    "max_demand = orders_df['Total_Demand'].max()\n",
    "vehicle_capacity = VEHICLE_CAPACITY # This variable was defined in the solver cell\n",
    "\n",
    "print(f\"\\n[Check 1: Individual Order Size]\")\n",
    "print(f\"Largest single order demand: {max_demand} units\")\n",
    "print(f\"Single vehicle capacity: {vehicle_capacity} units\")\n",
    "\n",
    "if max_demand > vehicle_capacity:\n",
    "    print(\"🔴 RESULT: FAILED. At least one order is too big for any vehicle.\")\n",
    "else:\n",
    "    print(\"✅ RESULT: PASSED. All individual orders can fit in a vehicle.\")\n",
    "\n",
    "# Check 2: Is the total demand greater than the whole fleet's capacity?\n",
    "total_demand = orders_df['Total_Demand'].sum()\n",
    "total_fleet_capacity = NUM_VEHICLES * vehicle_capacity # These were defined in the solver cell\n",
    "\n",
    "print(f\"\\n[Check 2: Total Fleet Capacity]\")\n",
    "print(f\"Total demand of all 200 orders: {total_demand} units\")\n",
    "print(f\"Total capacity of all {NUM_VEHICLES} vehicles: {total_fleet_capacity} units\")\n",
    "\n",
    "if total_demand > total_fleet_capacity:\n",
    "    print(\"🔴 RESULT: FAILED. The entire fleet is not large enough to handle all orders.\")\n",
    "else:\n",
    "    print(\"✅ RESULT: PASSED. The fleet has enough total capacity for all orders.\")"
   ]
  },
  {
   "cell_type": "code",
   "execution_count": 9,
   "id": "6a25c2f9",
   "metadata": {},
   "outputs": [
    {
     "name": "stdout",
     "output_type": "stream",
     "text": [
      "Solving with a 180-second stagnation limit...\n"
     ]
    },
    {
     "ename": "SystemError",
     "evalue": "<built-in function SearchMonitor_AcceptDelta> returned a result with an exception set",
     "output_type": "error",
     "traceback": [
      "\u001b[31m---------------------------------------------------------------------------\u001b[39m",
      "\u001b[31mOverflowError\u001b[39m                             Traceback (most recent call last)",
      "\u001b[36mCell\u001b[39m\u001b[36m \u001b[39m\u001b[32mIn[9]\u001b[39m\u001b[32m, line 80\u001b[39m, in \u001b[36mdistance_callback\u001b[39m\u001b[34m(from_index, to_index)\u001b[39m\n\u001b[32m     79\u001b[39m \u001b[38;5;28;01mdef\u001b[39;00m\u001b[38;5;250m \u001b[39m\u001b[34mdistance_callback\u001b[39m(from_index, to_index):\n\u001b[32m---> \u001b[39m\u001b[32m80\u001b[39m     from_node = \u001b[43mmanager\u001b[49m\u001b[43m.\u001b[49m\u001b[43mIndexToNode\u001b[49m\u001b[43m(\u001b[49m\u001b[43mfrom_index\u001b[49m\u001b[43m)\u001b[49m\n\u001b[32m     81\u001b[39m     to_node = manager.IndexToNode(to_index)\n",
      "\u001b[36mFile \u001b[39m\u001b[32mc:\\Users\\abravikumar\\OneDrive - Stony Brook University\\Desktop\\SupplyChainOptimizer\\.venv\\Lib\\site-packages\\ortools\\constraint_solver\\pywrapcp.py:4770\u001b[39m, in \u001b[36mRoutingIndexManager.IndexToNode\u001b[39m\u001b[34m(self, index)\u001b[39m\n\u001b[32m   4769\u001b[39m \u001b[38;5;28;01mdef\u001b[39;00m\u001b[38;5;250m \u001b[39m\u001b[34mIndexToNode\u001b[39m(\u001b[38;5;28mself\u001b[39m, index):\n\u001b[32m-> \u001b[39m\u001b[32m4770\u001b[39m     \u001b[38;5;28;01mreturn\u001b[39;00m \u001b[43m_pywrapcp\u001b[49m\u001b[43m.\u001b[49m\u001b[43mRoutingIndexManager_IndexToNode\u001b[49m\u001b[43m(\u001b[49m\u001b[38;5;28;43mself\u001b[39;49m\u001b[43m,\u001b[49m\u001b[43m \u001b[49m\u001b[43mindex\u001b[49m\u001b[43m)\u001b[49m\n",
      "\u001b[31mOverflowError\u001b[39m: in method 'RoutingIndexManager_IndexToNode', argument 2 of type 'int64_t'",
      "\nThe above exception was the direct cause of the following exception:\n",
      "\u001b[31mSystemError\u001b[39m                               Traceback (most recent call last)",
      "\u001b[36mCell\u001b[39m\u001b[36m \u001b[39m\u001b[32mIn[9]\u001b[39m\u001b[32m, line 107\u001b[39m\n\u001b[32m    105\u001b[39m \u001b[38;5;66;03m# Solve the problem\u001b[39;00m\n\u001b[32m    106\u001b[39m \u001b[38;5;28mprint\u001b[39m(\u001b[33m\"\u001b[39m\u001b[33mSolving with a 180-second stagnation limit...\u001b[39m\u001b[33m\"\u001b[39m)\n\u001b[32m--> \u001b[39m\u001b[32m107\u001b[39m solution = \u001b[43mrouting\u001b[49m\u001b[43m.\u001b[49m\u001b[43mSolveWithParameters\u001b[49m\u001b[43m(\u001b[49m\u001b[43msearch_parameters\u001b[49m\u001b[43m)\u001b[49m\n\u001b[32m    109\u001b[39m \u001b[38;5;28;01mif\u001b[39;00m solution:\n\u001b[32m    110\u001b[39m     \u001b[38;5;28mprint\u001b[39m(\u001b[33m\"\u001b[39m\u001b[38;5;130;01m\\n\u001b[39;00m\u001b[33m✅ Solution found!\u001b[39m\u001b[33m\"\u001b[39m)\n",
      "\u001b[36mFile \u001b[39m\u001b[32mc:\\Users\\abravikumar\\OneDrive - Stony Brook University\\Desktop\\SupplyChainOptimizer\\.venv\\Lib\\site-packages\\ortools\\constraint_solver\\pywrapcp.py:5652\u001b[39m, in \u001b[36mRoutingModel.SolveWithParameters\u001b[39m\u001b[34m(self, search_parameters, solutions)\u001b[39m\n\u001b[32m   5642\u001b[39m \u001b[38;5;28;01mdef\u001b[39;00m\u001b[38;5;250m \u001b[39m\u001b[34mSolveWithParameters\u001b[39m(\u001b[38;5;28mself\u001b[39m, search_parameters, solutions=\u001b[38;5;28;01mNone\u001b[39;00m):\n\u001b[32m   5643\u001b[39m \u001b[38;5;250m    \u001b[39m\u001b[33mr\u001b[39m\u001b[33;03m\"\"\"\u001b[39;00m\n\u001b[32m   5644\u001b[39m \u001b[33;03m    Solves the current routing model with the given parameters. If 'solutions'\u001b[39;00m\n\u001b[32m   5645\u001b[39m \u001b[33;03m    is specified, it will contain the k best solutions found during the search\u001b[39;00m\n\u001b[32m   (...)\u001b[39m\u001b[32m   5650\u001b[39m \u001b[33;03m    deleted.\u001b[39;00m\n\u001b[32m   5651\u001b[39m \u001b[33;03m    \"\"\"\u001b[39;00m\n\u001b[32m-> \u001b[39m\u001b[32m5652\u001b[39m     \u001b[38;5;28;01mreturn\u001b[39;00m \u001b[43m_pywrapcp\u001b[49m\u001b[43m.\u001b[49m\u001b[43mRoutingModel_SolveWithParameters\u001b[49m\u001b[43m(\u001b[49m\u001b[38;5;28;43mself\u001b[39;49m\u001b[43m,\u001b[49m\u001b[43m \u001b[49m\u001b[43msearch_parameters\u001b[49m\u001b[43m,\u001b[49m\u001b[43m \u001b[49m\u001b[43msolutions\u001b[49m\u001b[43m)\u001b[49m\n",
      "\u001b[36mFile \u001b[39m\u001b[32mc:\\Users\\abravikumar\\OneDrive - Stony Brook University\\Desktop\\SupplyChainOptimizer\\.venv\\Lib\\site-packages\\ortools\\constraint_solver\\pywrapcp.py:2562\u001b[39m, in \u001b[36mSearchMonitor.AcceptDelta\u001b[39m\u001b[34m(self, delta, deltadelta)\u001b[39m\n\u001b[32m   2560\u001b[39m \u001b[38;5;28;01mdef\u001b[39;00m\u001b[38;5;250m \u001b[39m\u001b[34mAcceptDelta\u001b[39m(\u001b[38;5;28mself\u001b[39m, delta, deltadelta):\n\u001b[32m-> \u001b[39m\u001b[32m2562\u001b[39m     \u001b[38;5;28;01mreturn\u001b[39;00m \u001b[43m_pywrapcp\u001b[49m\u001b[43m.\u001b[49m\u001b[43mSearchMonitor_AcceptDelta\u001b[49m\u001b[43m(\u001b[49m\u001b[38;5;28;43mself\u001b[39;49m\u001b[43m,\u001b[49m\u001b[43m \u001b[49m\u001b[43mdelta\u001b[49m\u001b[43m,\u001b[49m\u001b[43m \u001b[49m\u001b[43mdeltadelta\u001b[49m\u001b[43m)\u001b[49m\n",
      "\u001b[31mSystemError\u001b[39m: <built-in function SearchMonitor_AcceptDelta> returned a result with an exception set"
     ]
    }
   ],
   "source": [
    "import time\n",
    "from ortools.constraint_solver import routing_enums_pb2\n",
    "from ortools.constraint_solver import pywrapcp\n",
    "\n",
    "# --- Parts 1 and 2 are unchanged ---\n",
    "# --- 1. Consolidate Data for the Solver ---\n",
    "orders_df['Total_Demand'] = orders_df['Sterile_Kits_Demand'] + orders_df['Vaccine_Packs_Demand']\n",
    "NUM_VEHICLES = 25\n",
    "VEHICLE_CAPACITY = 600\n",
    "data = {}\n",
    "data['distance_matrix'] = distance_matrix\n",
    "data['demands'] = [0] * len(warehouses_df) + list(orders_df['Total_Demand'])\n",
    "data['vehicle_capacities'] = [VEHICLE_CAPACITY] * NUM_VEHICLES\n",
    "data['num_vehicles'] = NUM_VEHICLES\n",
    "data['depot'] = 0\n",
    "\n",
    "# --- 2. Function to Print the Solution ---\n",
    "def print_solution(data, manager, routing, solution):\n",
    "    # This function is unchanged\n",
    "    print(f'Objective: {solution.ObjectiveValue() / 1000:.2f} miles')\n",
    "    total_distance = 0\n",
    "    total_load = 0\n",
    "    for vehicle_id in range(data['num_vehicles']):\n",
    "        index = routing.Start(vehicle_id)\n",
    "        plan_output = f'Route for vehicle {vehicle_id}:\\n'\n",
    "        route_distance = 0\n",
    "        route_load = 0\n",
    "        while not routing.IsEnd(index):\n",
    "            node_index = manager.IndexToNode(index)\n",
    "            route_load += data['demands'][node_index]\n",
    "            plan_output += f' {node_index} (Load({route_load})) ->'\n",
    "            previous_index = index\n",
    "            index = solution.Value(routing.NextVar(index))\n",
    "            route_distance += routing.GetArcCostForVehicle(previous_index, index, vehicle_id)\n",
    "        node_index = manager.IndexToNode(index)\n",
    "        plan_output += f' {node_index} (Load({route_load}))\\n'\n",
    "        plan_output += f'Distance of the route: {route_distance / 1000:.2f} miles\\n'\n",
    "        plan_output += f'Load of the route: {route_load}\\n'\n",
    "        if route_load > 0:\n",
    "            print(plan_output)\n",
    "            total_distance += route_distance\n",
    "            total_load += route_load\n",
    "    print(f'Total distance of all routes: {total_distance / 1000:.2f} miles')\n",
    "    print(f'Total load of all routes: {total_load}')\n",
    "\n",
    "# --- CORRECTED Custom Search Monitor Class ---\n",
    "class SolutionStagnationMonitor(pywrapcp.SearchMonitor):\n",
    "    def __init__(self, routing, patience=180.0):\n",
    "        super().__init__(routing.solver())\n",
    "        self._routing = routing\n",
    "        self._patience = patience\n",
    "        self._best_objective = float('inf')\n",
    "        self._last_improvement_time = None\n",
    "\n",
    "    def EnterSearch(self):\n",
    "        self._last_improvement_time = time.time()\n",
    "\n",
    "    def AcceptSolution(self):\n",
    "        current_objective = self._routing.CostVar().Value()\n",
    "        \n",
    "        if current_objective < self._best_objective:\n",
    "            self._best_objective = current_objective\n",
    "            self._last_improvement_time = time.time()\n",
    "        \n",
    "        elapsed_time_without_improvement = time.time() - self._last_improvement_time\n",
    "        if elapsed_time_without_improvement > self._patience:\n",
    "            print(f\"\\nStopping search. No improvement for {self._patience} seconds.\")\n",
    "            self.solver().FinishCurrentSearch()\n",
    "        \n",
    "        # --- THE FIX IS HERE ---\n",
    "        # We must return True to tell the solver to continue.\n",
    "        return True\n",
    "\n",
    "# --- 3. Set Up and Run the Solver ---\n",
    "manager = pywrapcp.RoutingIndexManager(len(data['distance_matrix']), data['num_vehicles'], data['depot'])\n",
    "routing = pywrapcp.RoutingModel(manager)\n",
    "\n",
    "# (Callbacks are unchanged)\n",
    "def distance_callback(from_index, to_index):\n",
    "    from_node = manager.IndexToNode(from_index)\n",
    "    to_node = manager.IndexToNode(to_index)\n",
    "    return int(data['distance_matrix'][from_node][to_node] * 1000)\n",
    "transit_callback_index = routing.RegisterTransitCallback(distance_callback)\n",
    "routing.SetArcCostEvaluatorOfAllVehicles(transit_callback_index)\n",
    "\n",
    "def demand_callback(from_index):\n",
    "    from_node = manager.IndexToNode(from_index)\n",
    "    return data['demands'][from_node]\n",
    "demand_callback_index = routing.RegisterUnaryTransitCallback(demand_callback)\n",
    "routing.AddDimensionWithVehicleCapacity(\n",
    "    demand_callback_index, 0, data['vehicle_capacities'], True, 'Capacity'\n",
    ")\n",
    "\n",
    "search_parameters = pywrapcp.DefaultRoutingSearchParameters()\n",
    "search_parameters.first_solution_strategy = (\n",
    "    routing_enums_pb2.FirstSolutionStrategy.AUTOMATIC)\n",
    "search_parameters.local_search_metaheuristic = (\n",
    "    routing_enums_pb2.LocalSearchMetaheuristic.GUIDED_LOCAL_SEARCH)\n",
    "search_parameters.log_search = True\n",
    "\n",
    "# --- Using the Monitor Correctly ---\n",
    "stagnation_monitor = SolutionStagnationMonitor(routing, patience=180)\n",
    "routing.AddSearchMonitor(stagnation_monitor)\n",
    "\n",
    "# Solve the problem\n",
    "print(\"Solving with a 180-second stagnation limit...\")\n",
    "solution = routing.SolveWithParameters(search_parameters)\n",
    "\n",
    "if solution:\n",
    "    print(\"\\n✅ Solution found!\")\n",
    "    print_solution(data, manager, routing, solution)\n",
    "else:\n",
    "    print('\\nNo solution found!')"
   ]
  },
  {
   "cell_type": "code",
   "execution_count": null,
   "id": "ddad20a1",
   "metadata": {},
   "outputs": [
    {
     "name": "stdout",
     "output_type": "stream",
     "text": [
      "Extracting routes from the solution...\n",
      "✅ Found 21 active routes.\n",
      "Generating the final map with optimized routes...\n"
     ]
    },
    {
     "name": "stderr",
     "output_type": "stream",
     "text": [
      "C:\\Users\\abravikumar\\AppData\\Local\\Temp\\ipykernel_13344\\3998160131.py:28: DeprecationWarning:\n",
      "\n",
      "*scatter_mapbox* is deprecated! Use *scatter_map* instead. Learn more at: https://plotly.com/python/mapbox-to-maplibre/\n",
      "\n",
      "C:\\Users\\abravikumar\\AppData\\Local\\Temp\\ipykernel_13344\\3998160131.py:40: DeprecationWarning:\n",
      "\n",
      "*scatter_mapbox* is deprecated! Use *scatter_map* instead. Learn more at: https://plotly.com/python/mapbox-to-maplibre/\n",
      "\n",
      "C:\\Users\\abravikumar\\AppData\\Local\\Temp\\ipykernel_13344\\3998160131.py:58: DeprecationWarning:\n",
      "\n",
      "*scattermapbox* is deprecated! Use *scattermap* instead. Learn more at: https://plotly.com/python/mapbox-to-maplibre/\n",
      "\n"
     ]
    },
    {
     "data": {
      "application/vnd.plotly.v1+json": {
       "config": {
        "plotlyServerURL": "https://plot.ly"
       },
       "data": [
        {
         "customdata": {
          "bdata": "AAAkAB0AAQAaABQAAgAjAAoAAwAnAC4ABAAfAC8ABQAtADAABgAuACYABwAYAB8ACAArABQACQAcACMACgAqABEACwApAB0ADAAnABAADQAMAB4ADgAqABQADwAdADEAEAAZAA4AEQAbABgAEgAZAB4AEwAgACEAFAAmAB8AFQAjACIAFgAeABAAFwALABkAGAAVACMAGQASABAAGgAXABIAGwAcAAoAHAAeADEAHQApABkAHgAwABEAHwATABIAIAAQAC0AIQAUABMAIgASACgAIwAiACwAJAAaACgAJQAuAB4AJgAuADAAJwAZACEAKAANABcAKQAwACkAKgAgABoAKwALACQALAAwADEALQAXABQALgAgABMALwAxACsAMAAjABoAMQAkAC8AMgAZABgAMwAZABIANAAQACsANQAYACgANgAdAAwANwArABMAOAAtADAAOQATACMAOgAOAAoAOwAiACIAPAAnABgAPQAYACsAPgAmAAwAPwAWABMAQAAWABIAQQAoABEAQgAsACMAQwAXABkARAArACkARQAMACUARgAsABQARwAwAB8ASAAwABcASQAlACsASgANAC0ASwAYAA4ATAAMABAATQAWACsATgAWABAATwApACEAUAAXAA8AUQApADAAUgAYACEAUwAMABcAVAAMAC0AVQAVACMAVgAoACAAVwAqACkAWAAVACQAWQAeACEAWgAQABMAWwAsACYAXAAoAA4AXQAxACwAXgARACsAXwAYAA0AYAAWACgAYQApACUAYgAxACAAYwAMAAsAZAAWAAsAZQAtAC0AZgAlABUAZwAfACEAaAAsACQAaQArAB0AagAuABgAawAbADAAbAAlAC0AbQAfABkAbgAfAB0AbwAeADEAcAAjACUAcQAOACkAcgAaACkAcwAhABgAdAAmAA0AdQAVABoAdgAlAB8AdwAsADEAeAAtABUAeQAiACUAegAaAB8AewAqACoAfAAWABMAfQASAB4AfgAnABwAfwAvAB4AgAARAC8AgQAuADEAggAKAC4AgwAvABkAhAAxAC0AhQATAAoAhgAxAA0AhwAiACEAiAASACkAiQAMAA4AigAxACoAiwAWACwAjAAMAB0AjQAeAAoAjgAqACYAjwAXABgAkAALAAoAkQARACYAkgARACYAkwAuADAAlAAgABUAlQAWABsAlgAfAAwAlwAsAAwAmAAOAB8AmQAtACEAmgAXABEAmwAjACoAnAAnAA4AnQAdACoAngAhACgAnwAcAC0AoAASABAAoQAXACEAogAYAC4AowAkABcApAAcAB0ApQAlABYApgAsAC8ApwAaABkAqAAUAB4AqQAgAC4AqgARADEAqwAeABgArAAoACIArQANADEArgAqACgArwAhAAwAsAAlABUAsQAUABwAsgAWABkAswAPACAAtAAjAC4AtQAPAB0AtgAqAC4AtwAaAC8AuAAQABEAuQAcAAwAugASACQAuwAOABAAvAAMACAAvQAmAB0AvgAlABcAvwAPACcAwAAkABkAwQArAC0AwgATAAoAwwALACIAxAAjABIAxQAlABcAxgAKAB8AxwANAC0A",
          "dtype": "i2",
          "shape": "200, 3"
         },
         "hovertemplate": "<b>%{hovertext}</b><br><br>latitude=%{lat}<br>longitude=%{lon}<br>Order_ID=%{customdata[0]}<br>Sterile_Kits_Demand=%{customdata[1]}<br>Vaccine_Packs_Demand=%{customdata[2]}<extra></extra>",
         "hovertext": [
          "Upper East Side North",
          "Clinton East",
          "Morningside Heights",
          "Yorkville West",
          "Alphabet City",
          "Upper East Side North",
          "Lincoln Square East",
          "Upper West Side South",
          "Upper East Side North",
          "East Harlem South",
          "Clinton East",
          "Midtown North",
          "West Chelsea/Hudson Yards",
          "Midtown Center",
          "Times Sq/Theatre District",
          "Times Sq/Theatre District",
          "Midtown Center",
          "JFK Airport",
          "Midtown Center",
          "Garment District",
          "West Village",
          "Times Sq/Theatre District",
          "Times Sq/Theatre District",
          "Upper West Side South",
          "UN/Turtle Bay South",
          "West Concourse",
          "Midtown Center",
          "Times Sq/Theatre District",
          "Kips Bay",
          "Times Sq/Theatre District",
          "Greenwich Village South",
          "Upper East Side North",
          "Lenox Hill West",
          "Midtown South",
          "Yorkville East",
          "Yorkville West",
          "East Harlem South",
          "Union Sq",
          "TriBeCa/Civic Center",
          "Lenox Hill East",
          "Garment District",
          "Upper East Side North",
          "LaGuardia Airport",
          "SoHo",
          "Midtown Center",
          "JFK Airport",
          "Penn Station/Madison Sq West",
          "Sutton Place/Turtle Bay North",
          "Upper East Side North",
          "Hudson Sq",
          "East Village",
          "Clinton East",
          "Clinton East",
          "Greenwich Village North",
          "Upper East Side North",
          "SoHo",
          "Upper West Side South",
          "Kips Bay",
          "Midtown South",
          "UN/Turtle Bay South",
          "Lincoln Square East",
          "Garment District",
          "West Village",
          "Midtown Center",
          "Schuylerville/Edgewater Park",
          "JFK Airport",
          "Yorkville East",
          "West Village",
          "LaGuardia Airport",
          "Times Sq/Theatre District",
          "TriBeCa/Civic Center",
          "Times Sq/Theatre District",
          "Central Harlem",
          "JFK Airport",
          "Kips Bay",
          "Upper East Side North",
          "LaGuardia Airport",
          "Upper West Side South",
          "Upper West Side South",
          "Upper East Side South",
          "Lincoln Square East",
          "Greenwich Village South",
          "Lower East Side",
          "Greenwich Village North",
          "LaGuardia Airport",
          "Woodlawn/Wakefield",
          "East Chelsea",
          "Upper East Side South",
          "Times Sq/Theatre District",
          "Lenox Hill West",
          "Lenox Hill West",
          "Garment District",
          "TriBeCa/Civic Center",
          "Upper East Side South",
          "Midtown Center",
          "Lenox Hill East",
          "West Chelsea/Hudson Yards",
          "Midtown North",
          "Lincoln Square East",
          "West Chelsea/Hudson Yards",
          "Murray Hill",
          "Midtown North",
          "Clinton East",
          "Lower East Side",
          "Midtown East",
          "Kips Bay",
          "Sutton Place/Turtle Bay North",
          "Garment District",
          "Times Sq/Theatre District",
          "East Elmhurst",
          "West Village",
          "Upper East Side South",
          "Midtown South",
          "Clinton East",
          "Kips Bay",
          "Gramercy",
          "Midtown Center",
          "Midtown East",
          "Lenox Hill East",
          "Yorkville West",
          "Clinton East",
          "JFK Airport",
          "Lincoln Square East",
          "Upper West Side South",
          "Lower East Side",
          "Upper East Side North",
          "Kips Bay",
          "Manhattan Valley",
          "West Chelsea/Hudson Yards",
          "Upper East Side South",
          "Gramercy",
          "Gramercy",
          "Penn Station/Madison Sq West",
          "Two Bridges/Seward Park",
          "SoHo",
          "Upper East Side North",
          "Midtown East",
          "Midtown East",
          "Murray Hill",
          "Times Sq/Theatre District",
          "Clinton East",
          "Times Sq/Theatre District",
          "Midtown Center",
          "Manhattan Valley",
          "Upper West Side North",
          "Midtown South",
          "Penn Station/Madison Sq West",
          "Murray Hill",
          "SoHo",
          "Meatpacking/West Village West",
          "JFK Airport",
          "Upper West Side North",
          "Garment District",
          "Lincoln Square West",
          "Midtown Center",
          "JFK Airport",
          "Little Italy/NoLiTa",
          "JFK Airport",
          "Yorkville East",
          "Upper West Side North",
          "East Chelsea",
          "Midtown North",
          "Meatpacking/West Village West",
          "Upper East Side North",
          "East Village",
          "Midtown East",
          "Lower East Side",
          "Times Sq/Theatre District",
          "Upper East Side North",
          "LaGuardia Airport",
          "Gramercy",
          "East Chelsea",
          "Midtown East",
          "Upper East Side North",
          "Lenox Hill West",
          "Lenox Hill West",
          "JFK Airport",
          "JFK Airport",
          "Upper East Side South",
          "Upper East Side South",
          "Chinatown",
          "Lenox Hill West",
          "Midtown North",
          "Upper East Side North",
          "Midtown Center",
          "Midtown North",
          "Gramercy",
          "JFK Airport",
          "UN/Turtle Bay South",
          "Penn Station/Madison Sq West",
          "Upper East Side South",
          "Clinton East",
          "Central Park",
          "Midtown North",
          "Union Sq",
          "Lincoln Square East",
          "Lenox Hill East",
          "Flatiron",
          "Lenox Hill East",
          "Meatpacking/West Village West"
         ],
         "lat": {
          "bdata": "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",
          "dtype": "f8"
         },
         "legendgroup": "",
         "lon": {
          "bdata": "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",
          "dtype": "f8"
         },
         "marker": {
          "color": "blue"
         },
         "mode": "markers",
         "name": "",
         "showlegend": false,
         "subplot": "mapbox",
         "type": "scattermapbox"
        },
        {
         "hovertemplate": "<b>%{hovertext}</b><br><br>Latitude=%{lat}<br>Longitude=%{lon}<extra></extra>",
         "hovertext": [
          "DEPOT_MANHATTAN",
          "DEPOT_QUEENS",
          "DEPOT_BROOKLYN",
          "DEPOT_BRONX",
          "DEPOT_STATEN_ISLAND"
         ],
         "lat": {
          "bdata": "sb/snjxkREA+eVioNV1EQNcS8kHPVkRAldQJaCJsREAZBFYOLUpEQA==",
          "dtype": "f8"
         },
         "legendgroup": "",
         "lon": {
          "bdata": "A3gLJCh+UsDJ5T+k33JSwIY41sVtfFLALGUZ4lh3UsD99nXgnIlSwA==",
          "dtype": "f8"
         },
         "marker": {
          "color": "red"
         },
         "mode": "markers",
         "name": "",
         "showlegend": false,
         "subplot": "mapbox",
         "type": "scattermapbox"
        },
        {
         "hoverinfo": "none",
         "lat": {
          "bdata": "sb/snjxkREA/OnXls2BEQFuZ8Ev9XERAW5nwS/1cREBxPQrXo1xEQNXnaiv2W0RAKgDGM2hcREAqAMYzaFxEQCoAxjNoXERAKgDGM2hcREDVWwNbJWBEQLG/7J48ZERA",
          "dtype": "f8"
         },
         "line": {
          "color": "#636EFA",
          "width": 2
         },
         "lon": {
          "bdata": "A3gLJCh+UsAxX16AfX5SwDgyj/zBflLAODKP/MF+UsD76NSVz35SwNPZyeAof1LAHLEWnwKAUsAcsRafAoBSwByxFp8CgFLAHLEWnwKAUsAdcjPcgH9SwAN4CyQoflLA",
          "dtype": "f8"
         },
         "mode": "lines",
         "name": "Vehicle Route 0",
         "type": "scattermapbox"
        },
        {
         "hoverinfo": "none",
         "lat": {
          "bdata": "sb/snjxkREARHm0csV5EQGACt+7mXURAYAK37uZdREBgArfu5l1EQGACt+7mXURAYAK37uZdRECu00hL5V1EQK7TSEvlXURArtNIS+VdREA6OxkcJV9EQLG/7J48ZERA",
          "dtype": "f8"
         },
         "line": {
          "color": "#EF553B",
          "width": 2
         },
         "lon": {
          "bdata": "A3gLJCh+UsB6U5EKY39SwO+s3Xahf1LA76zddqF/UsDvrN12oX9SwO+s3Xahf1LA76zddqF/UsBMiSR6GX9SwEyJJHoZf1LATIkkehl/UsAGTODW3X5SwAN4CyQoflLA",
          "dtype": "f8"
         },
         "mode": "lines",
         "name": "Vehicle Route 1",
         "type": "scattermapbox"
        },
        {
         "hoverinfo": "none",
         "lat": {
          "bdata": "sb/snjxkREDPLAlQU2NEQM8sCVBTY0RAzywJUFNjREDPLAlQU2NEQFGlZg+0YkRAUaVmD7RiREBRpWYPtGJEQFGlZg+0YkRAAaQ2cXJjRECxv+yePGREQA==",
          "dtype": "f8"
         },
         "line": {
          "color": "#00CC96",
          "width": 2
         },
         "lon": {
          "bdata": "A3gLJCh+UsBbttYXCX1SwFu21hcJfVLAW7bWFwl9UsBbttYXCX1SwG/Tn/1IfVLAb9Of/Uh9UsBv05/9SH1SwG/Tn/1IfVLAy7kUV5V9UsADeAskKH5SwA==",
          "dtype": "f8"
         },
         "mode": "lines",
         "name": "Vehicle Route 2",
         "type": "scattermapbox"
        },
        {
         "hoverinfo": "none",
         "lat": {
          "bdata": "sb/snjxkRED1hCUeUGJEQPWEJR5QYkRA9YQlHlBiRED1hCUeUGJEQPWEJR5QYkRABVH3AUhhREAFUfcBSGFEQAVR9wFIYURABVH3AUhhREAFUfcBSGFEQLG/7J48ZERA",
          "dtype": "f8"
         },
         "line": {
          "color": "#AB63FA",
          "width": 2
         },
         "lon": {
          "bdata": "A3gLJCh+UsAmHlA25X5SwCYeUDblflLAJh5QNuV+UsAmHlA25X5SwCYeUDblflLA0PI8uDt/UsDQ8jy4O39SwNDyPLg7f1LA0PI8uDt/UsDQ8jy4O39SwAN4CyQoflLA",
          "dtype": "f8"
         },
         "mode": "lines",
         "name": "Vehicle Route 3",
         "type": "scattermapbox"
        },
        {
         "hoverinfo": "none",
         "lat": {
          "bdata": "sb/snjxkREAr+64I/l9EQCv7rgj+X0RAXANbJVhgREA/jBAebWBEQD+MEB5tYERAP4wQHm1gREDG4cyv5mBEQMbhzK/mYERAxuHMr+ZgREDG4cyv5mBEQLG/7J48ZERA",
          "dtype": "f8"
         },
         "line": {
          "color": "#FFA15A",
          "width": 2
         },
         "lon": {
          "bdata": "A3gLJCh+UsBseHqlLH9SwGx4eqUsf1LA14aKcf5+UsDidf2C3X5SwOJ1/YLdflLA4nX9gt1+UsAbKsb5m35SwBsqxvmbflLAGyrG+Zt+UsAbKsb5m35SwAN4CyQoflLA",
          "dtype": "f8"
         },
         "mode": "lines",
         "name": "Vehicle Route 4",
         "type": "scattermapbox"
        },
        {
         "hoverinfo": "none",
         "lat": {
          "bdata": "sb/snjxkRECnkZbK22FEQAVR9wFIYURABVH3AUhhREAFUfcBSGFEQAVR9wFIYURABVH3AUhhREAFUfcBSGFEQAVR9wFIYURABVH3AUhhRECxv+yePGREQA==",
          "dtype": "f8"
         },
         "line": {
          "color": "#19D3F3",
          "width": 2
         },
         "lon": {
          "bdata": "A3gLJCh+UsBNSkG3l35SwNDyPLg7f1LA0PI8uDt/UsDQ8jy4O39SwNDyPLg7f1LA0PI8uDt/UsDQ8jy4O39SwNDyPLg7f1LA0PI8uDt/UsADeAskKH5SwA==",
          "dtype": "f8"
         },
         "mode": "lines",
         "name": "Vehicle Route 5",
         "type": "scattermapbox"
        },
        {
         "hoverinfo": "none",
         "lat": {
          "bdata": "sb/snjxkREC/1M+bimBEQL/Uz5uKYERAv9TPm4pgREA/OnXls2BEQD86deWzYERAPzp15bNgREDG4cyv5mBEQMbhzK/mYERAxuHMr+ZgREDG4cyv5mBEQLG/7J48ZERA",
          "dtype": "f8"
         },
         "line": {
          "color": "#FF6692",
          "width": 2
         },
         "lon": {
          "bdata": "A3gLJCh+UsDqPgCpTX5SwOo+AKlNflLA6j4AqU1+UsAxX16AfX5SwDFfXoB9flLAMV9egH1+UsAbKsb5m35SwBsqxvmbflLAGyrG+Zt+UsAbKsb5m35SwAN4CyQoflLA",
          "dtype": "f8"
         },
         "mode": "lines",
         "name": "Vehicle Route 6",
         "type": "scattermapbox"
        },
        {
         "hoverinfo": "none",
         "lat": {
          "bdata": "sb/snjxkRECr7Lsi+F9EQKvsuyL4X0RAJsed0sFeREAmx53SwV5EQCbHndLBXkRAJsed0sFeREAQ6bevA19EQBDpt68DX0RAste7P95fREAvUb01sGFEQLG/7J48ZERA",
          "dtype": "f8"
         },
         "line": {
          "color": "#B6E880",
          "width": 2
         },
         "lon": {
          "bdata": "A3gLJCh+UsAlehnFcn9SwCV6GcVyf1LAaHke3J1/UsBoeR7cnX9SwGh5Htydf1LAaHke3J1/UsAc6+I2GoBSwBzr4jYagFLAkj8YeO5/UsAPC7WmeX9SwAN4CyQoflLA",
          "dtype": "f8"
         },
         "mode": "lines",
         "name": "Vehicle Route 7",
         "type": "scattermapbox"
        },
        {
         "hoverinfo": "none",
         "lat": {
          "bdata": "sb/snjxkREDqIRrdQWBEQOohGt1BYERA6iEa3UFgREDqIRrdQWBEQNVbA1slYERA1VsDWyVgREDVWwNbJWBEQNVbA1slYERA1VsDWyVgRECxv+yePGREQA==",
          "dtype": "f8"
         },
         "line": {
          "color": "#FF97FF",
          "width": 2
         },
         "lon": {
          "bdata": "A3gLJCh+UsDaA63AkH9SwNoDrcCQf1LA2gOtwJB/UsDaA63AkH9SwB1yM9yAf1LAHXIz3IB/UsAdcjPcgH9SwB1yM9yAf1LAHXIz3IB/UsADeAskKH5SwA==",
          "dtype": "f8"
         },
         "mode": "lines",
         "name": "Vehicle Route 8",
         "type": "scattermapbox"
        },
        {
         "hoverinfo": "none",
         "lat": {
          "bdata": "sb/snjxkREDL2xFOC2JEQMvbEU4LYkRAy9sRTgtiREDL2xFOC2JEQMvbEU4LYkRAy9sRTgtiREDL2xFOC2JEQLG/7J48ZERA",
          "dtype": "f8"
         },
         "line": {
          "color": "#FECB52",
          "width": 2
         },
         "lon": {
          "bdata": "A3gLJCh+UsD4iJgSSX5SwPiImBJJflLA+IiYEkl+UsD4iJgSSX5SwPiImBJJflLA+IiYEkl+UsD4iJgSSX5SwAN4CyQoflLA",
          "dtype": "f8"
         },
         "mode": "lines",
         "name": "Vehicle Route 9",
         "type": "scattermapbox"
        },
        {
         "hoverinfo": "none",
         "lat": {
          "bdata": "sb/snjxkREABpDZxcmNEQAGkNnFyY0RAAaQ2cXJjREABpDZxcmNEQAGkNnFyY0RAQznRrkJiREBDOdGuQmJEQEM50a5CYkRAQznRrkJiREBDOdGuQmJEQLG/7J48ZERA",
          "dtype": "f8"
         },
         "line": {
          "color": "#636EFA",
          "width": 2
         },
         "lon": {
          "bdata": "A3gLJCh+UsDLuRRXlX1SwMu5FFeVfVLAy7kUV5V9UsDLuRRXlX1SwMu5FFeVfVLAdTxmoDJ+UsB1PGagMn5SwHU8ZqAyflLAdTxmoDJ+UsB1PGagMn5SwAN4CyQoflLA",
          "dtype": "f8"
         },
         "mode": "lines",
         "name": "Vehicle Route 10",
         "type": "scattermapbox"
        },
        {
         "hoverinfo": "none",
         "lat": {
          "bdata": "sb/snjxkREAr+64I/l9EQDnRrkLKX0RAOdGuQspfREA50a5Cyl9EQAE1tWytX0RAATW1bK1fREABNbVsrV9EQAE1tWytX0RAt9EA3gJhRECxv+yePGREQA==",
          "dtype": "f8"
         },
         "line": {
          "color": "#EF553B",
          "width": 2
         },
         "lon": {
          "bdata": "A3gLJCh+UsBseHqlLH9SwOyjU1c+f1LA7KNTVz5/UsDso1NXPn9SwFCqfToef1LAUKp9Oh5/UsBQqn06Hn9SwFCqfToef1LA+FPjpZt+UsADeAskKH5SwA==",
          "dtype": "f8"
         },
         "mode": "lines",
         "name": "Vehicle Route 11",
         "type": "scattermapbox"
        },
        {
         "hoverinfo": "none",
         "lat": {
          "bdata": "sb/snjxkREDG4cyv5mBEQMbhzK/mYERAxuHMr+ZgREC30QDeAmFEQLfRAN4CYURAt9EA3gJhREC30QDeAmFEQLfRAN4CYURAp5GWytthRECxv+yePGREQA==",
          "dtype": "f8"
         },
         "line": {
          "color": "#00CC96",
          "width": 2
         },
         "lon": {
          "bdata": "A3gLJCh+UsAbKsb5m35SwBsqxvmbflLAGyrG+Zt+UsD4U+Olm35SwPhT46WbflLA+FPjpZt+UsD4U+Olm35SwPhT46WbflLATUpBt5d+UsADeAskKH5SwA==",
          "dtype": "f8"
         },
         "mode": "lines",
         "name": "Vehicle Route 12",
         "type": "scattermapbox"
        },
        {
         "hoverinfo": "none",
         "lat": {
          "bdata": "sb/snjxkREAMzXUaaWFEQAzNdRppYURADM11GmlhREAMzXUaaWFEQP0wQni0YURA/TBCeLRhRED9MEJ4tGFEQP0wQni0YURA/TBCeLRhRED9MEJ4tGFEQEM50a5CYkRAsb/snjxkREA=",
          "dtype": "f8"
         },
         "line": {
          "color": "#AB63FA",
          "width": 2
         },
         "lon": {
          "bdata": "A3gLJCh+UsAEBHP0+H1SwAQEc/T4fVLABARz9Ph9UsAEBHP0+H1SwBx8YTJVflLAHHxhMlV+UsAcfGEyVX5SwBx8YTJVflLAHHxhMlV+UsAcfGEyVX5SwHU8ZqAyflLAA3gLJCh+UsA=",
          "dtype": "f8"
         },
         "mode": "lines",
         "name": "Vehicle Route 13",
         "type": "scattermapbox"
        },
        {
         "hoverinfo": "none",
         "lat": {
          "bdata": "sb/snjxkREBRpWYPtGJEQMoa9RCNYkRAU7MHWoFhREBTswdagWFEQFOzB1qBYURAN091yM1gREA3T3XIzWBEQDdPdcjNYERANzemJyxhREA3N6YnLGFEQLG/7J48ZERA",
          "dtype": "f8"
         },
         "line": {
          "color": "#FFA15A",
          "width": 2
         },
         "lon": {
          "bdata": "A3gLJCh+UsBv05/9SH1SwD7QCgxZfVLA001iEFh9UsDTTWIQWH1SwNNNYhBYfVLAgQncupt9UsCBCdy6m31SwIEJ3LqbfVLAZ341Bwh+UsBnfjUHCH5SwAN4CyQoflLA",
          "dtype": "f8"
         },
         "mode": "lines",
         "name": "Vehicle Route 14",
         "type": "scattermapbox"
        },
        {
         "hoverinfo": "none",
         "lat": {
          "bdata": "sb/snjxkREDPLAlQU2NEQM8sCVBTY0RAzywJUFNjREDPLAlQU2NEQM8sCVBTY0RAzywJUFNjREDPLAlQU2NEQM8sCVBTY0RAzywJUFNjREDPLAlQU2NEQLG/7J48ZERA",
          "dtype": "f8"
         },
         "line": {
          "color": "#19D3F3",
          "width": 2
         },
         "lon": {
          "bdata": "A3gLJCh+UsBbttYXCX1SwFu21hcJfVLAW7bWFwl9UsBbttYXCX1SwFu21hcJfVLAW7bWFwl9UsBbttYXCX1SwFu21hcJfVLAW7bWFwl9UsBbttYXCX1SwAN4CyQoflLA",
          "dtype": "f8"
         },
         "mode": "lines",
         "name": "Vehicle Route 15",
         "type": "scattermapbox"
        },
        {
         "hoverinfo": "none",
         "lat": {
          "bdata": "sb/snjxkREBTeTvCaWVEQFN5O8JpZURAU3k7wmllREBybagY52dEQHJtqBjnZ0RA7rH0oQtmREAjLZW3I2REQCMtlbcjZERAsb/snjxkREA=",
          "dtype": "f8"
         },
         "line": {
          "color": "#FF6692",
          "width": 2
         },
         "lon": {
          "bdata": "A3gLJCh+UsDBHD1+b31SwMEcPX5vfVLAwRw9fm99UsBJERlW8XxSwEkRGVbxfFLAW18ktOV8UsAeUDblCn1SwB5QNuUKfVLAA3gLJCh+UsA=",
          "dtype": "f8"
         },
         "mode": "lines",
         "name": "Vehicle Route 16",
         "type": "scattermapbox"
        },
        {
         "hoverinfo": "none",
         "lat": {
          "bdata": "sb/snjxkREARHm0csWJEQA74/DBCaERAldQJaCJsREA+eVioNV1EQADGM2joW0RAAMYzaOhbREAAxjNo6FtEQADGM2joW0RAAMYzaOhbREDSb18HzlVEQNcS8kHPVkRAkdWtnpNWREA9uDtrt0lEQBkEVg4tSkRAs+pztRVjRECxv+yePGREQA==",
          "dtype": "f8"
         },
         "line": {
          "color": "#B6E880",
          "width": 2
         },
         "lon": {
          "bdata": "A3gLJCh+UsCkx+9t+nlSwBEZVvFGelLALGUZ4lh3UsDJ5T+k33JSwOtztRX7dVLA63O1Fft1UsDrc7UV+3VSwOtztRX7dVLA63O1Fft1UsCvsUtUb3VSwIY41sVtfFLAHLYtymx+UsDXTL7Z5ohSwP32deCciVLASZ2AJsJ+UsADeAskKH5SwA==",
          "dtype": "f8"
         },
         "mode": "lines",
         "name": "Vehicle Route 17",
         "type": "scattermapbox"
        },
        {
         "hoverinfo": "none",
         "lat": {
          "bdata": "sb/snjxkREDY2CWqt2JEQNjYJaq3YkRA2NglqrdiREDY2CWqt2JEQNjYJaq3YkRA2NglqrdiRED1hCUeUGJEQPWEJR5QYkRA9YQlHlBiRED1hCUeUGJEQLG/7J48ZERA",
          "dtype": "f8"
         },
         "line": {
          "color": "#FF97FF",
          "width": 2
         },
         "lon": {
          "bdata": "A3gLJCh+UsB63/jaM39SwHrf+Nozf1LAet/42jN/UsB63/jaM39SwHrf+Nozf1LAet/42jN/UsAmHlA25X5SwCYeUDblflLAJh5QNuV+UsAmHlA25X5SwAN4CyQoflLA",
          "dtype": "f8"
         },
         "mode": "lines",
         "name": "Vehicle Route 18",
         "type": "scattermapbox"
        },
        {
         "hoverinfo": "none",
         "lat": {
          "bdata": "sb/snjxkRECz6nO1FWNEQLPqc7UVY0RAs+pztRVjRECz6nO1FWNEQLPqc7UVY0RAs+pztRVjRECz6nO1FWNEQLPqc7UVY0RAs+pztRVjRECz6nO1FWNEQLG/7J48ZERA",
          "dtype": "f8"
         },
         "line": {
          "color": "#FECB52",
          "width": 2
         },
         "lon": {
          "bdata": "A3gLJCh+UsBJnYAmwn5SwEmdgCbCflLASZ2AJsJ+UsBJnYAmwn5SwEmdgCbCflLASZ2AJsJ+UsBJnYAmwn5SwEmdgCbCflLASZ2AJsJ+UsBJnYAmwn5SwAN4CyQoflLA",
          "dtype": "f8"
         },
         "mode": "lines",
         "name": "Vehicle Route 19",
         "type": "scattermapbox"
        },
        {
         "hoverinfo": "none",
         "lat": {
          "bdata": "sb/snjxkREAJM23/ymJEQAkzbf/KYkRACTNt/8piREAJM23/ymJEQAkzbf/KYkRACTNt/8piREAJM23/ymJEQAkzbf/KYkRAsb/snjxkREA=",
          "dtype": "f8"
         },
         "line": {
          "color": "#636EFA",
          "width": 2
         },
         "lon": {
          "bdata": "A3gLJCh+UsCAmlq21n1SwICaWrbWfVLAgJpattZ9UsCAmlq21n1SwICaWrbWfVLAgJpattZ9UsCAmlq21n1SwICaWrbWfVLAA3gLJCh+UsA=",
          "dtype": "f8"
         },
         "mode": "lines",
         "name": "Vehicle Route 20",
         "type": "scattermapbox"
        }
       ],
       "layout": {
        "height": 600,
        "legend": {
         "title": {
          "text": "Routes"
         },
         "tracegroupgap": 0
        },
        "mapbox": {
         "center": {
          "lat": 40.7583924,
          "lon": -73.97308025000001
         },
         "domain": {
          "x": [
           0,
           1
          ],
          "y": [
           0,
           1
          ]
         },
         "style": "open-street-map",
         "zoom": 9
        },
        "margin": {
         "b": 0,
         "l": 0,
         "r": 0,
         "t": 40
        },
        "template": {
         "data": {
          "bar": [
           {
            "error_x": {
             "color": "#2a3f5f"
            },
            "error_y": {
             "color": "#2a3f5f"
            },
            "marker": {
             "line": {
              "color": "#E5ECF6",
              "width": 0.5
             },
             "pattern": {
              "fillmode": "overlay",
              "size": 10,
              "solidity": 0.2
             }
            },
            "type": "bar"
           }
          ],
          "barpolar": [
           {
            "marker": {
             "line": {
              "color": "#E5ECF6",
              "width": 0.5
             },
             "pattern": {
              "fillmode": "overlay",
              "size": 10,
              "solidity": 0.2
             }
            },
            "type": "barpolar"
           }
          ],
          "carpet": [
           {
            "aaxis": {
             "endlinecolor": "#2a3f5f",
             "gridcolor": "white",
             "linecolor": "white",
             "minorgridcolor": "white",
             "startlinecolor": "#2a3f5f"
            },
            "baxis": {
             "endlinecolor": "#2a3f5f",
             "gridcolor": "white",
             "linecolor": "white",
             "minorgridcolor": "white",
             "startlinecolor": "#2a3f5f"
            },
            "type": "carpet"
           }
          ],
          "choropleth": [
           {
            "colorbar": {
             "outlinewidth": 0,
             "ticks": ""
            },
            "type": "choropleth"
           }
          ],
          "contour": [
           {
            "colorbar": {
             "outlinewidth": 0,
             "ticks": ""
            },
            "colorscale": [
             [
              0,
              "#0d0887"
             ],
             [
              0.1111111111111111,
              "#46039f"
             ],
             [
              0.2222222222222222,
              "#7201a8"
             ],
             [
              0.3333333333333333,
              "#9c179e"
             ],
             [
              0.4444444444444444,
              "#bd3786"
             ],
             [
              0.5555555555555556,
              "#d8576b"
             ],
             [
              0.6666666666666666,
              "#ed7953"
             ],
             [
              0.7777777777777778,
              "#fb9f3a"
             ],
             [
              0.8888888888888888,
              "#fdca26"
             ],
             [
              1,
              "#f0f921"
             ]
            ],
            "type": "contour"
           }
          ],
          "contourcarpet": [
           {
            "colorbar": {
             "outlinewidth": 0,
             "ticks": ""
            },
            "type": "contourcarpet"
           }
          ],
          "heatmap": [
           {
            "colorbar": {
             "outlinewidth": 0,
             "ticks": ""
            },
            "colorscale": [
             [
              0,
              "#0d0887"
             ],
             [
              0.1111111111111111,
              "#46039f"
             ],
             [
              0.2222222222222222,
              "#7201a8"
             ],
             [
              0.3333333333333333,
              "#9c179e"
             ],
             [
              0.4444444444444444,
              "#bd3786"
             ],
             [
              0.5555555555555556,
              "#d8576b"
             ],
             [
              0.6666666666666666,
              "#ed7953"
             ],
             [
              0.7777777777777778,
              "#fb9f3a"
             ],
             [
              0.8888888888888888,
              "#fdca26"
             ],
             [
              1,
              "#f0f921"
             ]
            ],
            "type": "heatmap"
           }
          ],
          "histogram": [
           {
            "marker": {
             "pattern": {
              "fillmode": "overlay",
              "size": 10,
              "solidity": 0.2
             }
            },
            "type": "histogram"
           }
          ],
          "histogram2d": [
           {
            "colorbar": {
             "outlinewidth": 0,
             "ticks": ""
            },
            "colorscale": [
             [
              0,
              "#0d0887"
             ],
             [
              0.1111111111111111,
              "#46039f"
             ],
             [
              0.2222222222222222,
              "#7201a8"
             ],
             [
              0.3333333333333333,
              "#9c179e"
             ],
             [
              0.4444444444444444,
              "#bd3786"
             ],
             [
              0.5555555555555556,
              "#d8576b"
             ],
             [
              0.6666666666666666,
              "#ed7953"
             ],
             [
              0.7777777777777778,
              "#fb9f3a"
             ],
             [
              0.8888888888888888,
              "#fdca26"
             ],
             [
              1,
              "#f0f921"
             ]
            ],
            "type": "histogram2d"
           }
          ],
          "histogram2dcontour": [
           {
            "colorbar": {
             "outlinewidth": 0,
             "ticks": ""
            },
            "colorscale": [
             [
              0,
              "#0d0887"
             ],
             [
              0.1111111111111111,
              "#46039f"
             ],
             [
              0.2222222222222222,
              "#7201a8"
             ],
             [
              0.3333333333333333,
              "#9c179e"
             ],
             [
              0.4444444444444444,
              "#bd3786"
             ],
             [
              0.5555555555555556,
              "#d8576b"
             ],
             [
              0.6666666666666666,
              "#ed7953"
             ],
             [
              0.7777777777777778,
              "#fb9f3a"
             ],
             [
              0.8888888888888888,
              "#fdca26"
             ],
             [
              1,
              "#f0f921"
             ]
            ],
            "type": "histogram2dcontour"
           }
          ],
          "mesh3d": [
           {
            "colorbar": {
             "outlinewidth": 0,
             "ticks": ""
            },
            "type": "mesh3d"
           }
          ],
          "parcoords": [
           {
            "line": {
             "colorbar": {
              "outlinewidth": 0,
              "ticks": ""
             }
            },
            "type": "parcoords"
           }
          ],
          "pie": [
           {
            "automargin": true,
            "type": "pie"
           }
          ],
          "scatter": [
           {
            "fillpattern": {
             "fillmode": "overlay",
             "size": 10,
             "solidity": 0.2
            },
            "type": "scatter"
           }
          ],
          "scatter3d": [
           {
            "line": {
             "colorbar": {
              "outlinewidth": 0,
              "ticks": ""
             }
            },
            "marker": {
             "colorbar": {
              "outlinewidth": 0,
              "ticks": ""
             }
            },
            "type": "scatter3d"
           }
          ],
          "scattercarpet": [
           {
            "marker": {
             "colorbar": {
              "outlinewidth": 0,
              "ticks": ""
             }
            },
            "type": "scattercarpet"
           }
          ],
          "scattergeo": [
           {
            "marker": {
             "colorbar": {
              "outlinewidth": 0,
              "ticks": ""
             }
            },
            "type": "scattergeo"
           }
          ],
          "scattergl": [
           {
            "marker": {
             "colorbar": {
              "outlinewidth": 0,
              "ticks": ""
             }
            },
            "type": "scattergl"
           }
          ],
          "scattermap": [
           {
            "marker": {
             "colorbar": {
              "outlinewidth": 0,
              "ticks": ""
             }
            },
            "type": "scattermap"
           }
          ],
          "scattermapbox": [
           {
            "marker": {
             "colorbar": {
              "outlinewidth": 0,
              "ticks": ""
             }
            },
            "type": "scattermapbox"
           }
          ],
          "scatterpolar": [
           {
            "marker": {
             "colorbar": {
              "outlinewidth": 0,
              "ticks": ""
             }
            },
            "type": "scatterpolar"
           }
          ],
          "scatterpolargl": [
           {
            "marker": {
             "colorbar": {
              "outlinewidth": 0,
              "ticks": ""
             }
            },
            "type": "scatterpolargl"
           }
          ],
          "scatterternary": [
           {
            "marker": {
             "colorbar": {
              "outlinewidth": 0,
              "ticks": ""
             }
            },
            "type": "scatterternary"
           }
          ],
          "surface": [
           {
            "colorbar": {
             "outlinewidth": 0,
             "ticks": ""
            },
            "colorscale": [
             [
              0,
              "#0d0887"
             ],
             [
              0.1111111111111111,
              "#46039f"
             ],
             [
              0.2222222222222222,
              "#7201a8"
             ],
             [
              0.3333333333333333,
              "#9c179e"
             ],
             [
              0.4444444444444444,
              "#bd3786"
             ],
             [
              0.5555555555555556,
              "#d8576b"
             ],
             [
              0.6666666666666666,
              "#ed7953"
             ],
             [
              0.7777777777777778,
              "#fb9f3a"
             ],
             [
              0.8888888888888888,
              "#fdca26"
             ],
             [
              1,
              "#f0f921"
             ]
            ],
            "type": "surface"
           }
          ],
          "table": [
           {
            "cells": {
             "fill": {
              "color": "#EBF0F8"
             },
             "line": {
              "color": "white"
             }
            },
            "header": {
             "fill": {
              "color": "#C8D4E3"
             },
             "line": {
              "color": "white"
             }
            },
            "type": "table"
           }
          ]
         },
         "layout": {
          "annotationdefaults": {
           "arrowcolor": "#2a3f5f",
           "arrowhead": 0,
           "arrowwidth": 1
          },
          "autotypenumbers": "strict",
          "coloraxis": {
           "colorbar": {
            "outlinewidth": 0,
            "ticks": ""
           }
          },
          "colorscale": {
           "diverging": [
            [
             0,
             "#8e0152"
            ],
            [
             0.1,
             "#c51b7d"
            ],
            [
             0.2,
             "#de77ae"
            ],
            [
             0.3,
             "#f1b6da"
            ],
            [
             0.4,
             "#fde0ef"
            ],
            [
             0.5,
             "#f7f7f7"
            ],
            [
             0.6,
             "#e6f5d0"
            ],
            [
             0.7,
             "#b8e186"
            ],
            [
             0.8,
             "#7fbc41"
            ],
            [
             0.9,
             "#4d9221"
            ],
            [
             1,
             "#276419"
            ]
           ],
           "sequential": [
            [
             0,
             "#0d0887"
            ],
            [
             0.1111111111111111,
             "#46039f"
            ],
            [
             0.2222222222222222,
             "#7201a8"
            ],
            [
             0.3333333333333333,
             "#9c179e"
            ],
            [
             0.4444444444444444,
             "#bd3786"
            ],
            [
             0.5555555555555556,
             "#d8576b"
            ],
            [
             0.6666666666666666,
             "#ed7953"
            ],
            [
             0.7777777777777778,
             "#fb9f3a"
            ],
            [
             0.8888888888888888,
             "#fdca26"
            ],
            [
             1,
             "#f0f921"
            ]
           ],
           "sequentialminus": [
            [
             0,
             "#0d0887"
            ],
            [
             0.1111111111111111,
             "#46039f"
            ],
            [
             0.2222222222222222,
             "#7201a8"
            ],
            [
             0.3333333333333333,
             "#9c179e"
            ],
            [
             0.4444444444444444,
             "#bd3786"
            ],
            [
             0.5555555555555556,
             "#d8576b"
            ],
            [
             0.6666666666666666,
             "#ed7953"
            ],
            [
             0.7777777777777778,
             "#fb9f3a"
            ],
            [
             0.8888888888888888,
             "#fdca26"
            ],
            [
             1,
             "#f0f921"
            ]
           ]
          },
          "colorway": [
           "#636efa",
           "#EF553B",
           "#00cc96",
           "#ab63fa",
           "#FFA15A",
           "#19d3f3",
           "#FF6692",
           "#B6E880",
           "#FF97FF",
           "#FECB52"
          ],
          "font": {
           "color": "#2a3f5f"
          },
          "geo": {
           "bgcolor": "white",
           "lakecolor": "white",
           "landcolor": "#E5ECF6",
           "showlakes": true,
           "showland": true,
           "subunitcolor": "white"
          },
          "hoverlabel": {
           "align": "left"
          },
          "hovermode": "closest",
          "mapbox": {
           "style": "light"
          },
          "paper_bgcolor": "white",
          "plot_bgcolor": "#E5ECF6",
          "polar": {
           "angularaxis": {
            "gridcolor": "white",
            "linecolor": "white",
            "ticks": ""
           },
           "bgcolor": "#E5ECF6",
           "radialaxis": {
            "gridcolor": "white",
            "linecolor": "white",
            "ticks": ""
           }
          },
          "scene": {
           "xaxis": {
            "backgroundcolor": "#E5ECF6",
            "gridcolor": "white",
            "gridwidth": 2,
            "linecolor": "white",
            "showbackground": true,
            "ticks": "",
            "zerolinecolor": "white"
           },
           "yaxis": {
            "backgroundcolor": "#E5ECF6",
            "gridcolor": "white",
            "gridwidth": 2,
            "linecolor": "white",
            "showbackground": true,
            "ticks": "",
            "zerolinecolor": "white"
           },
           "zaxis": {
            "backgroundcolor": "#E5ECF6",
            "gridcolor": "white",
            "gridwidth": 2,
            "linecolor": "white",
            "showbackground": true,
            "ticks": "",
            "zerolinecolor": "white"
           }
          },
          "shapedefaults": {
           "line": {
            "color": "#2a3f5f"
           }
          },
          "ternary": {
           "aaxis": {
            "gridcolor": "white",
            "linecolor": "white",
            "ticks": ""
           },
           "baxis": {
            "gridcolor": "white",
            "linecolor": "white",
            "ticks": ""
           },
           "bgcolor": "#E5ECF6",
           "caxis": {
            "gridcolor": "white",
            "linecolor": "white",
            "ticks": ""
           }
          },
          "title": {
           "x": 0.05
          },
          "xaxis": {
           "automargin": true,
           "gridcolor": "white",
           "linecolor": "white",
           "ticks": "",
           "title": {
            "standoff": 15
           },
           "zerolinecolor": "white",
           "zerolinewidth": 2
          },
          "yaxis": {
           "automargin": true,
           "gridcolor": "white",
           "linecolor": "white",
           "ticks": "",
           "title": {
            "standoff": 15
           },
           "zerolinecolor": "white",
           "zerolinewidth": 2
          }
         }
        },
        "title": {
         "text": "Final Optimized Routes for Medical Supply Distribution"
        }
       }
      }
     },
     "metadata": {},
     "output_type": "display_data"
    }
   ],
   "source": [
    "import plotly.express as px\n",
    "import plotly.graph_objects as go\n",
    "\n",
    "# --- 1. Extract the routes from the solution ---\n",
    "print(\"Extracting routes from the solution...\")\n",
    "routes = []\n",
    "for vehicle_id in range(data['num_vehicles']):\n",
    "    route_for_vehicle = []\n",
    "    index = routing.Start(vehicle_id)\n",
    "    while not routing.IsEnd(index):\n",
    "        node_index = manager.IndexToNode(index)\n",
    "        route_for_vehicle.append(node_index)\n",
    "        index = solution.Value(routing.NextVar(index))\n",
    "    \n",
    "    # Add the end node (depot) to complete the loop\n",
    "    node_index = manager.IndexToNode(index)\n",
    "    route_for_vehicle.append(node_index)\n",
    "    \n",
    "    # Only add routes that are actually used\n",
    "    if len(route_for_vehicle) > 2:\n",
    "        routes.append(route_for_vehicle)\n",
    "\n",
    "print(f\"✅ Found {len(routes)} active routes.\")\n",
    "\n",
    "\n",
    "# --- 2. Create the base map with depots and orders ---\n",
    "print(\"Generating the final map with optimized routes...\")\n",
    "fig = px.scatter_mapbox(\n",
    "    orders_df,\n",
    "    lat=\"latitude\",\n",
    "    lon=\"longitude\",\n",
    "    hover_name=\"Zone\",\n",
    "    hover_data=[\"Order_ID\", \"Sterile_Kits_Demand\", \"Vaccine_Packs_Demand\"],\n",
    "    color_discrete_sequence=[\"blue\"],\n",
    "    zoom=9,\n",
    "    height=600,\n",
    "    title=\"Final Optimized Routes for Medical Supply Distribution\"\n",
    ")\n",
    "fig.add_trace(\n",
    "    px.scatter_mapbox(\n",
    "        warehouses_df,\n",
    "        lat=\"Latitude\",\n",
    "        lon=\"Longitude\",\n",
    "        hover_name=\"Warehouse_ID\",\n",
    "        color_discrete_sequence=[\"red\"],\n",
    "        size_max=20,\n",
    "    ).data[0]\n",
    ")\n",
    "\n",
    "\n",
    "# --- 3. Add the route lines to the map ---\n",
    "# We'll use a color scale to make each route a different color\n",
    "color_scale = px.colors.qualitative.Plotly\n",
    "\n",
    "for i, route in enumerate(routes):\n",
    "    route_df = all_locations_df.iloc[route]\n",
    "    fig.add_trace(\n",
    "        go.Scattermapbox(\n",
    "            mode = \"lines\",\n",
    "            lon = route_df['lon'],\n",
    "            lat = route_df['lat'],\n",
    "            hoverinfo = 'none',\n",
    "            line=dict(width=2, color=color_scale[i % len(color_scale)]),\n",
    "            name=f\"Vehicle Route {i}\"\n",
    "        )\n",
    "    )\n",
    "\n",
    "fig.update_layout(\n",
    "    mapbox_style=\"open-street-map\",\n",
    "    margin={\"r\":0,\"t\":40,\"l\":0,\"b\":0},\n",
    "    legend_title_text='Routes'\n",
    ")\n",
    "\n",
    "fig.show()"
   ]
  },
  {
   "cell_type": "code",
   "execution_count": 10,
   "id": "22626863",
   "metadata": {},
   "outputs": [
    {
     "name": "stdout",
     "output_type": "stream",
     "text": [
      "Starting pre-processing to create a lightweight data file for deployment...\n",
      "\n",
      "✅ Success! 'orders_for_app.csv' has been created.\n",
      "This lightweight file will be used by your deployed application.\n"
     ]
    }
   ],
   "source": [
    "print(\"Starting pre-processing to create a lightweight data file for deployment...\")\n",
    "\n",
    "# --- Load Raw Data ---\n",
    "# Ensure the large parquet and csv files are in your project folder to run this\n",
    "df_trips = pd.read_parquet('yellow_tripdata_2024-01.parquet')\n",
    "df_zones = pd.read_csv('taxi+_zone_lookup.csv')\n",
    "\n",
    "# --- Embedded Coordinates Data ---\n",
    "# Ensure the full 265 lines of coordinate data are pasted here\n",
    "coords_csv_data = \"\"\"LocationID,latitude,longitude\n",
    "1,40.644990,-74.174230\n",
    "2,40.675690,-73.800100\n",
    "3,40.864470,-73.847420\n",
    "4,40.723750,-73.981420\n",
    "5,40.562860,-74.184470\n",
    "6,40.596820,-74.126290\n",
    "7,40.744110,-73.992010\n",
    "8,40.627760,-73.951230\n",
    "9,40.835430,-73.864330\n",
    "10,40.652070,-73.945830\n",
    "11,40.628880,-73.994870\n",
    "12,40.588520,-73.963160\n",
    "13,40.708870,-74.009380\n",
    "14,40.668240,-73.980390\n",
    "15,40.837330,-73.902260\n",
    "16,40.764170,-73.961540\n",
    "17,40.692690,-73.951560\n",
    "18,40.695160,-73.922440\n",
    "19,40.679610,-73.904830\n",
    "20,40.648370,-74.017550\n",
    "21,40.627270,-74.077330\n",
    "22,40.671160,-73.943110\n",
    "23,40.785340,-73.942450\n",
    "24,40.791730,-73.944220\n",
    "25,40.718530,-73.953560\n",
    "26,40.641320,-73.955930\n",
    "27,40.671190,-73.868720\n",
    "28,40.743140,-73.974440\n",
    "29,40.706850,-74.015240\n",
    "30,40.545620,-74.166820\n",
    "31,40.864820,-73.916100\n",
    "32,40.852860,-73.896790\n",
    "33,40.671810,-73.969180\n",
    "34,40.686560,-73.981880\n",
    "35,40.694860,-73.974280\n",
    "36,40.711280,-73.994130\n",
    "37,40.725830,-73.999060\n",
    "38,40.887320,-73.910320\n",
    "39,40.803770,-73.872720\n",
    "40,40.820980,-73.889320\n",
    "41,40.575910,-74.139090\n",
    "42,40.612030,-74.025340\n",
    "43,40.752690,-73.984280\n",
    "44,40.714090,-73.942120\n",
    "45,40.718450,-73.986870\n",
    "46,40.738180,-74.002590\n",
    "47,40.709320,-73.996120\n",
    "48,40.768070,-73.982740\n",
    "49,40.760160,-73.991250\n",
    "50,40.757070,-73.990130\n",
    "51,40.618030,-74.004230\n",
    "52,40.740620,-73.913230\n",
    "53,40.741710,-73.866330\n",
    "54,40.796590,-73.839690\n",
    "55,40.807750,-73.856980\n",
    "56,40.689360,-73.899320\n",
    "57,40.693150,-73.882420\n",
    "58,40.840240,-73.856090\n",
    "59,40.871140,-73.834140\n",
    "60,40.896310,-73.854830\n",
    "61,40.705290,-73.938390\n",
    "62,40.748360,-73.953680\n",
    "63,40.709350,-73.961290\n",
    "64,40.761890,-73.826130\n",
    "65,40.732890,-74.006930\n",
    "66,40.707740,-73.951540\n",
    "67,40.700010,-73.924230\n",
    "68,40.761760,-73.958500\n",
    "69,40.785070,-73.815560\n",
    "70,40.814520,-73.910580\n",
    "71,40.729990,-73.988020\n",
    "72,40.696140,-73.994780\n",
    "73,40.793830,-73.961560\n",
    "74,40.799010,-73.968130\n",
    "75,40.811740,-73.952230\n",
    "76,40.702730,-74.014280\n",
    "77,40.685370,-74.001220\n",
    "78,40.658810,-73.974950\n",
    "79,40.726480,-73.980590\n",
    "80,40.695990,-73.969980\n",
    "81,40.669560,-73.891890\n",
    "82,40.679120,-73.961220\n",
    "83,40.686030,-73.961910\n",
    "84,40.635840,-73.884580\n",
    "85,40.672580,-73.914270\n",
    "86,40.687530,-73.906730\n",
    "87,40.748640,-73.987730\n",
    "88,40.759290,-73.985160\n",
    "89,40.583610,-74.093950\n",
    "90,40.763190,-73.991800\n",
    "91,40.603330,-73.943990\n",
    "92,40.598070,-74.076590\n",
    "93,40.631890,-73.965560\n",
    "94,40.599010,-74.062820\n",
    "95,40.778840,-73.953530\n",
    "96,40.784420,-73.949740\n",
    "97,40.730470,-73.958810\n",
    "98,40.608030,-74.088010\n",
    "99,40.592750,-74.198390\n",
    "100,40.751140,-73.992240\n",
    "101,40.644120,-74.005180\n",
    "102,40.638570,-73.994270\n",
    "103,40.771980,-73.874430\n",
    "104,40.775830,-73.869970\n",
    "105,40.781060,-73.850540\n",
    "106,40.728830,-73.978830\n",
    "107,40.733610,-73.994230\n",
    "108,40.751740,-73.800050\n",
    "109,40.755450,-73.820520\n",
    "110,40.735870,-73.791530\n",
    "111,40.605280,-74.065870\n",
    "112,40.612490,-73.978180\n",
    "113,40.759160,-73.969240\n",
    "114,40.764520,-73.978010\n",
    "115,40.852170,-73.844910\n",
    "116,40.743130,-73.992840\n",
    "117,40.687050,-73.873230\n",
    "118,40.835560,-73.850680\n",
    "119,40.790070,-73.976050\n",
    "120,40.738870,-73.976310\n",
    "121,40.810330,-73.829040\n",
    "122,40.825630,-73.811550\n",
    "123,40.796390,-73.814230\n",
    "124,40.790930,-73.853240\n",
    "125,40.748970,-73.998930\n",
    "126,40.767570,-73.805360\n",
    "127,40.742970,-74.006590\n",
    "128,40.735390,-73.993140\n",
    "129,40.787620,-73.842040\n",
    "130,40.759590,-73.844450\n",
    "131,40.753340,-73.872970\n",
    "132,40.774100,-73.980600\n",
    "133,40.804890,-73.938830\n",
    "134,40.755790,-73.883490\n",
    "135,40.760030,-73.921350\n",
    "136,40.766330,-73.858790\n",
    "137,40.771230,-73.987540\n",
    "138,40.718030,-73.843450\n",
    "139,40.701150,-73.828550\n",
    "140,40.771120,-73.957580\n",
    "141,40.776930,-73.962240\n",
    "142,40.767660,-73.971840\n",
    "143,40.769930,-73.958560\n",
    "144,40.743320,-73.982290\n",
    "145,40.825130,-73.940340\n",
    "146,40.827760,-73.931220\n",
    "147,40.865730,-73.830490\n",
    "148,40.755490,-73.976410\n",
    "149,40.798650,-73.931180\n",
    "150,40.815910,-73.940730\n",
    "151,40.742300,-74.001600\n",
    "152,40.745670,-73.993810\n",
    "153,40.739480,-74.002450\n",
    "154,40.746060,-73.811020\n",
    "155,40.791550,-73.932720\n",
    "156,40.873240,-73.865970\n",
    "157,40.810560,-73.889370\n",
    "158,40.749940,-73.987100\n",
    "159,40.857640,-73.918970\n",
    "160,40.868090,-73.899630\n",
    "161,40.757040,-73.978270\n",
    "162,40.763320,-73.973950\n",
    "163,40.765970,-73.973210\n",
    "164,40.761020,-73.968320\n",
    "165,40.729090,-73.805560\n",
    "166,40.739780,-73.990420\n",
    "167,40.596040,-74.156640\n",
    "168,40.795490,-73.940980\n",
    "169,40.817360,-73.956960\n",
    "170,40.756280,-73.962630\n",
    "171,40.692370,-73.833330\n",
    "172,40.584340,-74.106880\n",
    "173,40.706110,-73.911380\n",
    "174,40.692880,-73.867950\n",
    "175,40.659910,-73.820980\n",
    "176,40.601450,-74.098710\n",
    "177,40.690850,-73.998010\n",
    "178,40.680430,-73.993420\n",
    "179,40.645480,-73.959380\n",
    "180,40.652110,-73.964240\n",
    "181,40.737110,-73.986300\n",
    "182,40.844320,-73.880120\n",
    "183,40.866160,-73.882700\n",
    "184,40.826720,-73.859660\n",
    "185,40.810000,-73.896780\n",
    "186,40.752010,-73.993210\n",
    "187,40.638760,-74.084260\n",
    "188,40.669810,-73.929840\n",
    "189,40.678460,-73.931750\n",
    "190,40.757870,-73.969890\n",
    "191,40.595930,-74.088670\n",
    "192,40.583560,-74.072710\n",
    "193,40.767120,-73.881240\n",
    "194,40.697420,-73.808020\n",
    "195,40.635870,-73.812970\n",
    "196,40.709110,-73.867090\n",
    "197,40.710730,-73.880480\n",
    "198,40.724730,-73.880890\n",
    "199,40.873530,-73.844160\n",
    "200,40.659340,-73.796330\n",
    "201,40.602730,-74.113330\n",
    "202,40.715340,-74.004310\n",
    "203,40.640690,-73.944230\n",
    "204,40.551720,-74.204360\n",
    "205,40.678520,-73.842780\n",
    "206,40.642510,-73.848690\n",
    "207,40.627040,-74.156090\n",
    "208,40.771030,-73.905910\n",
    "209,40.739330,-73.974460\n",
    "210,40.730720,-73.991240\n",
    "211,40.721930,-74.000160\n",
    "212,40.686530,-73.834010\n",
    "213,40.672040,-73.791520\n",
    "214,40.584740,-74.057390\n",
    "215,40.617540,-74.043810\n",
    "216,40.617430,-74.092170\n",
    "217,40.626880,-74.114780\n",
    "218,40.573220,-74.098370\n",
    "219,40.596660,-74.045790\n",
    "220,40.577280,-74.067820\n",
    "221,40.607480,-74.153920\n",
    "222,40.655270,-73.991910\n",
    "223,40.688140,-73.910300\n",
    "224,40.749170,-74.001200\n",
    "225,40.686250,-73.939160\n",
    "226,40.710490,-73.983940\n",
    "227,40.697620,-73.910790\n",
    "228,40.758410,-73.919250\n",
    "229,40.782340,-73.953790\n",
    "230,40.760010,-73.988020\n",
    "231,40.792290,-73.959930\n",
    "232,40.797230,-73.951520\n",
    "233,40.733560,-73.985930\n",
    "234,40.749760,-73.991380\n",
    "235,40.853040,-73.828230\n",
    "236,40.775980,-73.953680\n",
    "237,40.771820,-73.966230\n",
    "238,40.754230,-73.973490\n",
    "239,40.757900,-73.978250\n",
    "240,40.840740,-73.939230\n",
    "241,40.864750,-73.897440\n",
    "242,40.860010,-73.871330\n",
    "243,40.803520,-73.949600\n",
    "244,40.807870,-73.945410\n",
    "245,40.893120,-73.882340\n",
    "246,40.740290,-73.994010\n",
    "247,40.676380,-73.975390\n",
    "248,40.669020,-73.961430\n",
    "249,40.747480,-73.986220\n",
    "250,40.728950,-73.992080\n",
    "251,40.570000,-74.113060\n",
    "252,40.851970,-73.928170\n",
    "253,40.858700,-73.933330\n",
    "254,40.876540,-73.909940\n",
    "255,40.743990,-73.945930\n",
    "256,40.734410,-73.954490\n",
    "257,40.748350,-73.944370\n",
    "258,40.718320,-73.908510\n",
    "259,40.670350,-73.834920\n",
    "260,40.702780,-73.883640\n",
    "261,40.733310,-73.959830\n",
    "262,40.753330,-73.982270\n",
    "263,40.748360,-73.988180\n",
    "264,0.000000,0.000000\n",
    "265,0.000000,0.000000\"\"\" \n",
    "df_coords = pd.read_csv(io.StringIO(coords_csv_data))\n",
    "\n",
    "# --- Perform Merging and Cleaning ---\n",
    "df_trips_cleaned = df_trips[['PULocationID']].copy().rename(columns={'PULocationID': 'LocationID'})\n",
    "df_merged = pd.merge(df_trips_cleaned, df_zones, on='LocationID')\n",
    "df_final = pd.merge(df_merged, df_coords, on='LocationID')\n",
    "df_final = df_final[(df_final['latitude'] != 0) & (df_final['Borough'] != 'Unknown')].copy()\n",
    "\n",
    "# --- Sample and Save the Lightweight File ---\n",
    "# We take a large sample so the app still has variety\n",
    "pre_sampled_df = df_final.sample(n=10000, random_state=42)\n",
    "pre_sampled_df.to_csv('orders_for_app.csv', index=False)\n",
    "\n",
    "print(\"\\n✅ Success! 'orders_for_app.csv' has been created.\")\n",
    "print(\"This lightweight file will be used by your deployed application.\")"
   ]
  }
 ],
 "metadata": {
  "kernelspec": {
   "display_name": ".venv",
   "language": "python",
   "name": "python3"
  },
  "language_info": {
   "codemirror_mode": {
    "name": "ipython",
    "version": 3
   },
   "file_extension": ".py",
   "mimetype": "text/x-python",
   "name": "python",
   "nbconvert_exporter": "python",
   "pygments_lexer": "ipython3",
   "version": "3.13.7"
  }
 },
 "nbformat": 4,
 "nbformat_minor": 5
}
